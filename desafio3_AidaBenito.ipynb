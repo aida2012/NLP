{
 "cells": [
  {
   "cell_type": "markdown",
   "metadata": {
    "id": "sZd5yLnnHOK0"
   },
   "source": [
    "<img src=\"https://github.com/hernancontigiani/ceia_memorias_especializacion/raw/master/Figures/logoFIUBA.jpg\" width=\"500\" align=\"center\">\n",
    "\n",
    "\n",
    "# Procesamiento de lenguaje natural\n",
    "## Custom embedddings con Gensim\n",
    "\n"
   ]
  },
  {
   "cell_type": "markdown",
   "metadata": {
    "id": "vA7nqkumo9z9"
   },
   "source": [
    "### Objetivo\n",
    "El objetivo es utilizar documentos / corpus para crear embeddings de palabras basado en ese contexto. Se utilizará canciones de bandas para generar los embeddings, es decir, que los vectores tendrán la forma en función de como esa banda haya utilizado las palabras en sus canciones."
   ]
  },
  {
   "cell_type": "code",
   "execution_count": 89,
   "metadata": {
    "id": "lFToQs5FK5uZ"
   },
   "outputs": [],
   "source": [
    "import pandas as pd\n",
    "import matplotlib.pyplot as plt\n",
    "import seaborn as sns\n",
    "import pickle\n",
    "import multiprocessing\n",
    "from gensim.models import Word2Vec"
   ]
  },
  {
   "cell_type": "markdown",
   "metadata": {
    "id": "g07zJxG7H9vG"
   },
   "source": [
    "### Datos\n",
    "Utilizaremos como dataset canciones de bandas de habla inglesa."
   ]
  },
  {
   "cell_type": "code",
   "execution_count": 90,
   "metadata": {},
   "outputs": [],
   "source": [
    "with open('./datasets/borges_full_texts.pkl', 'rb') as f:\n",
    "   borges = pickle.load(f)"
   ]
  },
  {
   "cell_type": "code",
   "execution_count": 91,
   "metadata": {
    "id": "mysGrIw9ljC2"
   },
   "outputs": [
    {
     "data": {
      "text/html": [
       "<div>\n",
       "<style scoped>\n",
       "    .dataframe tbody tr th:only-of-type {\n",
       "        vertical-align: middle;\n",
       "    }\n",
       "\n",
       "    .dataframe tbody tr th {\n",
       "        vertical-align: top;\n",
       "    }\n",
       "\n",
       "    .dataframe thead th {\n",
       "        text-align: right;\n",
       "    }\n",
       "</style>\n",
       "<table border=\"1\" class=\"dataframe\">\n",
       "  <thead>\n",
       "    <tr style=\"text-align: right;\">\n",
       "      <th></th>\n",
       "      <th>link</th>\n",
       "      <th>text_metadata</th>\n",
       "      <th>text</th>\n",
       "    </tr>\n",
       "  </thead>\n",
       "  <tbody>\n",
       "    <tr>\n",
       "      <th>0</th>\n",
       "      <td>https://ciudadseva.com/texto/abel-y-cain-borges/</td>\n",
       "      <td>{'title': 'Abel y Caín', 'metadata': '[Minicue...</td>\n",
       "      <td>Abel y Caín se encontraron después de la muert...</td>\n",
       "    </tr>\n",
       "    <tr>\n",
       "      <th>1</th>\n",
       "      <td>https://ciudadseva.com/texto/adrogue/</td>\n",
       "      <td>{'title': 'Adrogué', 'metadata': '[Minicuento ...</td>\n",
       "      <td>Era muy lindo, un pueblo laberíntico. A veces,...</td>\n",
       "    </tr>\n",
       "    <tr>\n",
       "      <th>2</th>\n",
       "      <td>https://ciudadseva.com/texto/alguien-sonara/</td>\n",
       "      <td>{'title': 'Alguien soñará', 'metadata': '[Mini...</td>\n",
       "      <td>¿Qué soñará el indescifrable futuro? Soñará qu...</td>\n",
       "    </tr>\n",
       "    <tr>\n",
       "      <th>3</th>\n",
       "      <td>https://ciudadseva.com/texto/andres-armoa/</td>\n",
       "      <td>{'title': 'Andrés Armoa', 'metadata': '[Minicu...</td>\n",
       "      <td>Los años le han dejado unas palabras en guaran...</td>\n",
       "    </tr>\n",
       "    <tr>\n",
       "      <th>4</th>\n",
       "      <td>https://ciudadseva.com/texto/argumentum-ornith...</td>\n",
       "      <td>{'title': 'Argumentum ornithologicum', 'metada...</td>\n",
       "      <td>Cierro los ojos y veo una bandada de pájaros. ...</td>\n",
       "    </tr>\n",
       "  </tbody>\n",
       "</table>\n",
       "</div>"
      ],
      "text/plain": [
       "                                                link  \\\n",
       "0   https://ciudadseva.com/texto/abel-y-cain-borges/   \n",
       "1              https://ciudadseva.com/texto/adrogue/   \n",
       "2       https://ciudadseva.com/texto/alguien-sonara/   \n",
       "3         https://ciudadseva.com/texto/andres-armoa/   \n",
       "4  https://ciudadseva.com/texto/argumentum-ornith...   \n",
       "\n",
       "                                       text_metadata  \\\n",
       "0  {'title': 'Abel y Caín', 'metadata': '[Minicue...   \n",
       "1  {'title': 'Adrogué', 'metadata': '[Minicuento ...   \n",
       "2  {'title': 'Alguien soñará', 'metadata': '[Mini...   \n",
       "3  {'title': 'Andrés Armoa', 'metadata': '[Minicu...   \n",
       "4  {'title': 'Argumentum ornithologicum', 'metada...   \n",
       "\n",
       "                                                text  \n",
       "0  Abel y Caín se encontraron después de la muert...  \n",
       "1  Era muy lindo, un pueblo laberíntico. A veces,...  \n",
       "2  ¿Qué soñará el indescifrable futuro? Soñará qu...  \n",
       "3  Los años le han dejado unas palabras en guaran...  \n",
       "4  Cierro los ojos y veo una bandada de pájaros. ...  "
      ]
     },
     "execution_count": 91,
     "metadata": {},
     "output_type": "execute_result"
    }
   ],
   "source": [
    "borges.head()"
   ]
  },
  {
   "cell_type": "code",
   "execution_count": 92,
   "metadata": {},
   "outputs": [
    {
     "data": {
      "text/plain": [
       "'Era muy lindo, un pueblo laberíntico. A veces, algunas noches de verano, salíamos mi padre, mi madre y yo a perdernos. Al principio nos costaba un poco de trabajo, pero luego nos perfeccionamos tanto que nos perdíamos enseguida. FIN'"
      ]
     },
     "execution_count": 92,
     "metadata": {},
     "output_type": "execute_result"
    }
   ],
   "source": [
    "borges['text'][1]"
   ]
  },
  {
   "cell_type": "code",
   "execution_count": 93,
   "metadata": {
    "id": "ticoqYD1Z3I7"
   },
   "outputs": [
    {
     "data": {
      "text/plain": [
       "pandas.core.frame.DataFrame"
      ]
     },
     "execution_count": 93,
     "metadata": {},
     "output_type": "execute_result"
    }
   ],
   "source": [
    "text = borges[\"text\"]\n",
    "df = pd.DataFrame(text)\n",
    "type(df)"
   ]
  },
  {
   "cell_type": "code",
   "execution_count": 94,
   "metadata": {
    "id": "LEpKubK9XzXN"
   },
   "outputs": [
    {
     "name": "stdout",
     "output_type": "stream",
     "text": [
      "Cantidad de documentos: 62\n"
     ]
    }
   ],
   "source": [
    "print(\"Cantidad de documentos:\", df.shape[0])"
   ]
  },
  {
   "cell_type": "markdown",
   "metadata": {
    "id": "ab94qaFlrA1G"
   },
   "source": [
    "### 1 - Preprocesamiento"
   ]
  },
  {
   "cell_type": "code",
   "execution_count": 95,
   "metadata": {
    "id": "rIsmMWmjrDHd"
   },
   "outputs": [],
   "source": [
    "from keras.preprocessing.text import text_to_word_sequence\n",
    "\n",
    "sentence_tokens = []\n",
    "# Recorrer todas las filas y transformar las oraciones\n",
    "# en una secuencia de palabras (esto podría realizarse con NLTK o spaCy también)\n",
    "for _, row in df[:None].iterrows():\n",
    "    sentence_tokens.append(text_to_word_sequence(row[0]))"
   ]
  },
  {
   "cell_type": "code",
   "execution_count": 96,
   "metadata": {
    "id": "CHepi_DGrbhq"
   },
   "outputs": [
    {
     "data": {
      "text/plain": [
       "[['abel',\n",
       "  'y',\n",
       "  'caín',\n",
       "  'se',\n",
       "  'encontraron',\n",
       "  'después',\n",
       "  'de',\n",
       "  'la',\n",
       "  'muerte',\n",
       "  'de',\n",
       "  'abel',\n",
       "  'caminaban',\n",
       "  'por',\n",
       "  'el',\n",
       "  'desierto',\n",
       "  'y',\n",
       "  'se',\n",
       "  'reconocieron',\n",
       "  'desde',\n",
       "  'lejos',\n",
       "  'porque',\n",
       "  'los',\n",
       "  'dos',\n",
       "  'eran',\n",
       "  'muy',\n",
       "  'altos',\n",
       "  'los',\n",
       "  'hermanos',\n",
       "  'se',\n",
       "  'sentaron',\n",
       "  'en',\n",
       "  'la',\n",
       "  'tierra',\n",
       "  'hicieron',\n",
       "  'un',\n",
       "  'fuego',\n",
       "  'y',\n",
       "  'comieron',\n",
       "  'guardaban',\n",
       "  'silencio',\n",
       "  'a',\n",
       "  'la',\n",
       "  'manera',\n",
       "  'de',\n",
       "  'la',\n",
       "  'gente',\n",
       "  'cansada',\n",
       "  'cuando',\n",
       "  'declina',\n",
       "  'el',\n",
       "  'día',\n",
       "  'en',\n",
       "  'el',\n",
       "  'cielo',\n",
       "  'asomaba',\n",
       "  'alguna',\n",
       "  'estrella',\n",
       "  'que',\n",
       "  'aún',\n",
       "  'no',\n",
       "  'había',\n",
       "  'recibido',\n",
       "  'su',\n",
       "  'nombre',\n",
       "  'a',\n",
       "  'la',\n",
       "  'luz',\n",
       "  'de',\n",
       "  'las',\n",
       "  'llamas',\n",
       "  'caín',\n",
       "  'advirtió',\n",
       "  'en',\n",
       "  'la',\n",
       "  'frente',\n",
       "  'de',\n",
       "  'abel',\n",
       "  'la',\n",
       "  'marca',\n",
       "  'de',\n",
       "  'la',\n",
       "  'piedra',\n",
       "  'y',\n",
       "  'dejó',\n",
       "  'caer',\n",
       "  'el',\n",
       "  'pan',\n",
       "  'que',\n",
       "  'estaba',\n",
       "  'por',\n",
       "  'llevarse',\n",
       "  'a',\n",
       "  'la',\n",
       "  'boca',\n",
       "  'y',\n",
       "  'pidió',\n",
       "  'que',\n",
       "  'le',\n",
       "  'fuera',\n",
       "  'perdonado',\n",
       "  'su',\n",
       "  'crimen',\n",
       "  'abel',\n",
       "  'contestó',\n",
       "  '—¿tú',\n",
       "  'me',\n",
       "  'has',\n",
       "  'matado',\n",
       "  'o',\n",
       "  'yo',\n",
       "  'te',\n",
       "  'he',\n",
       "  'matado',\n",
       "  'ya',\n",
       "  'no',\n",
       "  'recuerdo',\n",
       "  'aquí',\n",
       "  'estamos',\n",
       "  'juntos',\n",
       "  'como',\n",
       "  'antes',\n",
       "  '—ahora',\n",
       "  'sé',\n",
       "  'que',\n",
       "  'en',\n",
       "  'verdad',\n",
       "  'me',\n",
       "  'has',\n",
       "  'perdonado',\n",
       "  '—dijo',\n",
       "  'caín—',\n",
       "  'porque',\n",
       "  'olvidar',\n",
       "  'es',\n",
       "  'perdonar',\n",
       "  'yo',\n",
       "  'trataré',\n",
       "  'también',\n",
       "  'de',\n",
       "  'olvidar',\n",
       "  'abel',\n",
       "  'dijo',\n",
       "  'despacio',\n",
       "  '—así',\n",
       "  'es',\n",
       "  'mientras',\n",
       "  'dura',\n",
       "  'el',\n",
       "  'remordimiento',\n",
       "  'dura',\n",
       "  'la',\n",
       "  'culpa',\n",
       "  'fin'],\n",
       " ['era',\n",
       "  'muy',\n",
       "  'lindo',\n",
       "  'un',\n",
       "  'pueblo',\n",
       "  'laberíntico',\n",
       "  'a',\n",
       "  'veces',\n",
       "  'algunas',\n",
       "  'noches',\n",
       "  'de',\n",
       "  'verano',\n",
       "  'salíamos',\n",
       "  'mi',\n",
       "  'padre',\n",
       "  'mi',\n",
       "  'madre',\n",
       "  'y',\n",
       "  'yo',\n",
       "  'a',\n",
       "  'perdernos',\n",
       "  'al',\n",
       "  'principio',\n",
       "  'nos',\n",
       "  'costaba',\n",
       "  'un',\n",
       "  'poco',\n",
       "  'de',\n",
       "  'trabajo',\n",
       "  'pero',\n",
       "  'luego',\n",
       "  'nos',\n",
       "  'perfeccionamos',\n",
       "  'tanto',\n",
       "  'que',\n",
       "  'nos',\n",
       "  'perdíamos',\n",
       "  'enseguida',\n",
       "  'fin']]"
      ]
     },
     "execution_count": 96,
     "metadata": {},
     "output_type": "execute_result"
    }
   ],
   "source": [
    "# Demos un vistazo\n",
    "sentence_tokens[:2]"
   ]
  },
  {
   "cell_type": "markdown",
   "metadata": {
    "id": "BaXV6nlHr5Aa"
   },
   "source": [
    "### 2 - Crear los vectores (word2vec)"
   ]
  },
  {
   "cell_type": "code",
   "execution_count": 97,
   "metadata": {
    "id": "OSb0v7h8r7hK"
   },
   "outputs": [],
   "source": [
    "from gensim.models.callbacks import CallbackAny2Vec\n",
    "# Durante el entrenamiento gensim por defecto no informa el \"loss\" en cada época\n",
    "# Sobrecargamos el callback para poder tener esta información\n",
    "class callback(CallbackAny2Vec):\n",
    "    \"\"\"\n",
    "    Callback to print loss after each epoch\n",
    "    \"\"\"\n",
    "    def __init__(self):\n",
    "        self.epoch = 0\n",
    "\n",
    "    def on_epoch_end(self, model):\n",
    "        loss = model.get_latest_training_loss()\n",
    "        if self.epoch == 0:\n",
    "            print('Loss after epoch {}: {}'.format(self.epoch, loss))\n",
    "        else:\n",
    "            print('Loss after epoch {}: {}'.format(self.epoch, loss- self.loss_previous_step))\n",
    "        self.epoch += 1\n",
    "        self.loss_previous_step = loss"
   ]
  },
  {
   "cell_type": "code",
   "execution_count": 98,
   "metadata": {
    "id": "i0wnDdv9sJ47"
   },
   "outputs": [],
   "source": [
    "# Crearmos el modelo generador de vectores\n",
    "# En este caso utilizaremos la estructura modelo Skipgram\n",
    "w2v_model = Word2Vec(min_count=5,    # frecuencia mínima de palabra para incluirla en el vocabulario\n",
    "                     window=2,       # cant de palabras antes y desp de la predicha\n",
    "                     vector_size=250,       # dimensionalidad de los vectores \n",
    "                     negative=20,    # cantidad de negative samples... 0 es no se usa\n",
    "                     workers=1,      # si tienen más cores pueden cambiar este valor\n",
    "                     sg=1)           # modelo 0:CBOW  1:skipgram"
   ]
  },
  {
   "cell_type": "code",
   "execution_count": 99,
   "metadata": {
    "id": "5lTt8wErsf17"
   },
   "outputs": [],
   "source": [
    "# Obtener el vocabulario con los tokens\n",
    "w2v_model.build_vocab(sentence_tokens)"
   ]
  },
  {
   "cell_type": "code",
   "execution_count": 100,
   "metadata": {
    "id": "TNc9qt4os5AT"
   },
   "outputs": [
    {
     "name": "stdout",
     "output_type": "stream",
     "text": [
      "Cantidad de docs en el corpus: 62\n"
     ]
    }
   ],
   "source": [
    "# Cantidad de filas/docs encontradas en el corpus\n",
    "print(\"Cantidad de docs en el corpus:\", w2v_model.corpus_count)"
   ]
  },
  {
   "cell_type": "code",
   "execution_count": 101,
   "metadata": {
    "id": "idw9cHF3tSMl"
   },
   "outputs": [
    {
     "name": "stdout",
     "output_type": "stream",
     "text": [
      "Cantidad de words distintas en el corpus: 2016\n"
     ]
    }
   ],
   "source": [
    "# Cantidad de words encontradas en el corpus\n",
    "print(\"Cantidad de words distintas en el corpus:\", len(w2v_model.wv.index_to_key))"
   ]
  },
  {
   "cell_type": "code",
   "execution_count": 102,
   "metadata": {},
   "outputs": [
    {
     "data": {
      "text/plain": [
       "'abril'"
      ]
     },
     "execution_count": 102,
     "metadata": {},
     "output_type": "execute_result"
    }
   ],
   "source": [
    "w2v_model.wv.index_to_key[1000]"
   ]
  },
  {
   "cell_type": "code",
   "execution_count": 103,
   "metadata": {},
   "outputs": [
    {
     "data": {
      "text/plain": [
       "['abril',\n",
       " 'nueva',\n",
       " 'borracho',\n",
       " 'n',\n",
       " 'tabares',\n",
       " 'natal',\n",
       " 'enero',\n",
       " 'suárez',\n",
       " 'sorteo',\n",
       " 'juliana',\n",
       " 'tercero',\n",
       " 'isidoro',\n",
       " 'tercera',\n",
       " 'soldado',\n",
       " 'poeta']"
      ]
     },
     "execution_count": 103,
     "metadata": {},
     "output_type": "execute_result"
    }
   ],
   "source": [
    "w2v_model.wv.index_to_key[1000:1015]"
   ]
  },
  {
   "cell_type": "markdown",
   "metadata": {
    "id": "fC9mZ8DPk-UC"
   },
   "source": [
    "### 3 - Entrenar embeddings"
   ]
  },
  {
   "cell_type": "code",
   "execution_count": 104,
   "metadata": {
    "id": "QSp-x0PAsq56"
   },
   "outputs": [
    {
     "name": "stdout",
     "output_type": "stream",
     "text": [
      "Loss after epoch 0: 675937.25\n",
      "Loss after epoch 1: 489500.75\n",
      "Loss after epoch 2: 441047.125\n",
      "Loss after epoch 3: 439871.625\n",
      "Loss after epoch 4: 385788.0\n",
      "Loss after epoch 5: 376092.25\n",
      "Loss after epoch 6: 374212.0\n",
      "Loss after epoch 7: 373471.75\n",
      "Loss after epoch 8: 371190.75\n",
      "Loss after epoch 9: 365899.0\n",
      "Loss after epoch 10: 353964.0\n",
      "Loss after epoch 11: 350131.0\n",
      "Loss after epoch 12: 350685.0\n",
      "Loss after epoch 13: 348183.0\n",
      "Loss after epoch 14: 347845.0\n",
      "Loss after epoch 15: 346488.5\n",
      "Loss after epoch 16: 345849.5\n",
      "Loss after epoch 17: 344842.0\n",
      "Loss after epoch 18: 343486.5\n",
      "Loss after epoch 19: 344116.5\n"
     ]
    },
    {
     "data": {
      "text/plain": [
       "(828944, 1743720)"
      ]
     },
     "execution_count": 104,
     "metadata": {},
     "output_type": "execute_result"
    }
   ],
   "source": [
    "# Entrenamos el modelo generador de vectores\n",
    "# Utilizamos nuestro callback\n",
    "w2v_model.train(sentence_tokens,\n",
    "                 total_examples=w2v_model.corpus_count,\n",
    "                 epochs=20,\n",
    "                 compute_loss = True,\n",
    "                 callbacks=[callback()]\n",
    "                 )"
   ]
  },
  {
   "cell_type": "markdown",
   "metadata": {
    "id": "ddT9NVuNlCAe"
   },
   "source": [
    "### 4 - Ensayar"
   ]
  },
  {
   "cell_type": "code",
   "execution_count": 105,
   "metadata": {
    "id": "6cHN9xGLuPEm"
   },
   "outputs": [
    {
     "data": {
      "text/plain": [
       "[('notoriamente', 0.9683837294578552),\n",
       " ('schopenhauer', 0.9601207375526428),\n",
       " ('suertes', 0.9543336033821106),\n",
       " ('soñador', 0.9538471698760986),\n",
       " ('declaró', 0.9531726837158203),\n",
       " ('hipótesis', 0.9524017572402954),\n",
       " ('abandonó', 0.9522297978401184),\n",
       " ('atributo', 0.9520503878593445),\n",
       " ('curso', 0.9492930769920349),\n",
       " ('heresiarca', 0.9477555751800537)]"
      ]
     },
     "execution_count": 105,
     "metadata": {},
     "output_type": "execute_result"
    }
   ],
   "source": [
    "# Palabras que MÁS se relacionan con...:\n",
    "w2v_model.wv.most_similar(positive=[\"pueblo\"], topn=10)"
   ]
  },
  {
   "cell_type": "code",
   "execution_count": 106,
   "metadata": {
    "id": "47HiU5gdkdMq"
   },
   "outputs": [
    {
     "data": {
      "text/plain": [
       "[('sin', -0.3199578523635864),\n",
       " ('primera', -0.345326691865921),\n",
       " ('al', -0.34675565361976624),\n",
       " ('ese', -0.36129897832870483),\n",
       " ('primer', -0.3634583353996277),\n",
       " ('cada', -0.36355316638946533),\n",
       " ('he', -0.3651367127895355),\n",
       " ('sus', -0.3703135550022125),\n",
       " ('esa', -0.371721088886261),\n",
       " ('del', -0.37495285272598267)]"
      ]
     },
     "execution_count": 106,
     "metadata": {},
     "output_type": "execute_result"
    }
   ],
   "source": [
    "# Palabras que MENOS se relacionan con...:\n",
    "w2v_model.wv.most_similar(negative=[\"borracho\"], topn=10)"
   ]
  },
  {
   "cell_type": "code",
   "execution_count": 107,
   "metadata": {
    "id": "DT4Rvno2mD65"
   },
   "outputs": [
    {
     "data": {
      "text/plain": [
       "[('entendimiento', 0.9300537109375),\n",
       " ('siguió', 0.9297990202903748),\n",
       " ('forastero', 0.9295588731765747),\n",
       " ('aceptó', 0.9204953908920288),\n",
       " ('parecido', 0.9195415377616882),\n",
       " ('oyera', 0.9168623089790344),\n",
       " ('sonrisa', 0.9155243635177612),\n",
       " ('comer', 0.9149011969566345),\n",
       " ('cristo', 0.9145134091377258),\n",
       " ('gaucho', 0.91443932056427)]"
      ]
     },
     "execution_count": 107,
     "metadata": {},
     "output_type": "execute_result"
    }
   ],
   "source": [
    "# Palabras que MÁS se relacionan con...:\n",
    "w2v_model.wv.most_similar(positive=[\"borracho\"], topn=10)"
   ]
  },
  {
   "cell_type": "code",
   "execution_count": 108,
   "metadata": {
    "id": "XPLDPgzBmQXt"
   },
   "outputs": [
    {
     "data": {
      "text/plain": [
       "[('varón', 0.941706120967865),\n",
       " ('espíritu', 0.9392508268356323),\n",
       " ('oído', 0.9319267272949219),\n",
       " ('posterior', 0.9276713728904724),\n",
       " ('error', 0.9258841872215271)]"
      ]
     },
     "execution_count": 108,
     "metadata": {},
     "output_type": "execute_result"
    }
   ],
   "source": [
    "# Palabras que MÁS se relacionan con...:\n",
    "w2v_model.wv.most_similar(positive=[\"poeta\"], topn=5)"
   ]
  },
  {
   "cell_type": "code",
   "execution_count": 109,
   "metadata": {
    "id": "L_UvHPMMklOr"
   },
   "outputs": [
    {
     "ename": "KeyError",
     "evalue": "\"Key 'oso' not present in vocabulary\"",
     "output_type": "error",
     "traceback": [
      "\u001b[1;31m---------------------------------------------------------------------------\u001b[0m",
      "\u001b[1;31mKeyError\u001b[0m                                  Traceback (most recent call last)",
      "\u001b[1;32mc:\\Users\\anben\\OneDrive\\Desktop\\Posgrado\\porcesamiento_lenguaje_natural\\desafios\\desafio3_AidaBenito.ipynb Cell 28\u001b[0m line \u001b[0;36m2\n\u001b[0;32m      <a href='vscode-notebook-cell:/c%3A/Users/anben/OneDrive/Desktop/Posgrado/porcesamiento_lenguaje_natural/desafios/desafio3_AidaBenito.ipynb#X34sZmlsZQ%3D%3D?line=0'>1</a>\u001b[0m \u001b[39m# Ensayar con una palabra que no está en el vocabulario:\u001b[39;00m\n\u001b[1;32m----> <a href='vscode-notebook-cell:/c%3A/Users/anben/OneDrive/Desktop/Posgrado/porcesamiento_lenguaje_natural/desafios/desafio3_AidaBenito.ipynb#X34sZmlsZQ%3D%3D?line=1'>2</a>\u001b[0m w2v_model\u001b[39m.\u001b[39;49mwv\u001b[39m.\u001b[39;49mmost_similar(negative\u001b[39m=\u001b[39;49m[\u001b[39m\"\u001b[39;49m\u001b[39moso\u001b[39;49m\u001b[39m\"\u001b[39;49m])\n",
      "File \u001b[1;32mc:\\Users\\anben\\anaconda3\\lib\\site-packages\\gensim\\models\\keyedvectors.py:841\u001b[0m, in \u001b[0;36mKeyedVectors.most_similar\u001b[1;34m(self, positive, negative, topn, clip_start, clip_end, restrict_vocab, indexer)\u001b[0m\n\u001b[0;32m    838\u001b[0m         weight[idx] \u001b[39m=\u001b[39m item[\u001b[39m1\u001b[39m]\n\u001b[0;32m    840\u001b[0m \u001b[39m# compute the weighted average of all keys\u001b[39;00m\n\u001b[1;32m--> 841\u001b[0m mean \u001b[39m=\u001b[39m \u001b[39mself\u001b[39;49m\u001b[39m.\u001b[39;49mget_mean_vector(keys, weight, pre_normalize\u001b[39m=\u001b[39;49m\u001b[39mTrue\u001b[39;49;00m, post_normalize\u001b[39m=\u001b[39;49m\u001b[39mTrue\u001b[39;49;00m, ignore_missing\u001b[39m=\u001b[39;49m\u001b[39mFalse\u001b[39;49;00m)\n\u001b[0;32m    842\u001b[0m all_keys \u001b[39m=\u001b[39m [\n\u001b[0;32m    843\u001b[0m     \u001b[39mself\u001b[39m\u001b[39m.\u001b[39mget_index(key) \u001b[39mfor\u001b[39;00m key \u001b[39min\u001b[39;00m keys \u001b[39mif\u001b[39;00m \u001b[39misinstance\u001b[39m(key, _KEY_TYPES) \u001b[39mand\u001b[39;00m \u001b[39mself\u001b[39m\u001b[39m.\u001b[39mhas_index_for(key)\n\u001b[0;32m    844\u001b[0m ]\n\u001b[0;32m    846\u001b[0m \u001b[39mif\u001b[39;00m indexer \u001b[39mis\u001b[39;00m \u001b[39mnot\u001b[39;00m \u001b[39mNone\u001b[39;00m \u001b[39mand\u001b[39;00m \u001b[39misinstance\u001b[39m(topn, \u001b[39mint\u001b[39m):\n",
      "File \u001b[1;32mc:\\Users\\anben\\anaconda3\\lib\\site-packages\\gensim\\models\\keyedvectors.py:518\u001b[0m, in \u001b[0;36mKeyedVectors.get_mean_vector\u001b[1;34m(self, keys, weights, pre_normalize, post_normalize, ignore_missing)\u001b[0m\n\u001b[0;32m    516\u001b[0m         total_weight \u001b[39m+\u001b[39m\u001b[39m=\u001b[39m \u001b[39mabs\u001b[39m(weights[idx])\n\u001b[0;32m    517\u001b[0m     \u001b[39melif\u001b[39;00m \u001b[39mnot\u001b[39;00m ignore_missing:\n\u001b[1;32m--> 518\u001b[0m         \u001b[39mraise\u001b[39;00m \u001b[39mKeyError\u001b[39;00m(\u001b[39mf\u001b[39m\u001b[39m\"\u001b[39m\u001b[39mKey \u001b[39m\u001b[39m'\u001b[39m\u001b[39m{\u001b[39;00mkey\u001b[39m}\u001b[39;00m\u001b[39m'\u001b[39m\u001b[39m not present in vocabulary\u001b[39m\u001b[39m\"\u001b[39m)\n\u001b[0;32m    520\u001b[0m \u001b[39mif\u001b[39;00m total_weight \u001b[39m>\u001b[39m \u001b[39m0\u001b[39m:\n\u001b[0;32m    521\u001b[0m     mean \u001b[39m=\u001b[39m mean \u001b[39m/\u001b[39m total_weight\n",
      "\u001b[1;31mKeyError\u001b[0m: \"Key 'oso' not present in vocabulary\""
     ]
    }
   ],
   "source": [
    "# Ensayar con una palabra que no está en el vocabulario:\n",
    "w2v_model.wv.most_similar(negative=[\"oso\"])"
   ]
  },
  {
   "cell_type": "code",
   "execution_count": null,
   "metadata": {},
   "outputs": [
    {
     "name": "stdout",
     "output_type": "stream",
     "text": [
      "[ 0.19832844 -0.03587237  0.00056125  0.02111164 -0.03050752  0.01417337\n",
      " -0.15274483  0.1073123   0.1394657   0.0699709  -0.07581188  0.07899535\n",
      " -0.13054664  0.10077302  0.05476725 -0.1448277  -0.14999127  0.00543945\n",
      "  0.08177578  0.01407057  0.02128148  0.02327199  0.0916009  -0.09134521\n",
      " -0.00194111 -0.12239401  0.10127061 -0.08233527 -0.03302703  0.10678101\n",
      "  0.05849391  0.12256519 -0.07563865 -0.06970628  0.17548193  0.07286508\n",
      " -0.05837394 -0.01146768  0.16686122 -0.09663258 -0.04731658  0.13864727\n",
      " -0.02432273  0.04745548 -0.10224677 -0.04894228 -0.07956331 -0.00450605\n",
      "  0.05754686 -0.06541813 -0.21652858  0.03890591  0.11002529 -0.16392061\n",
      "  0.22605018 -0.16155355  0.00948208  0.10669906  0.02194656 -0.18366674\n",
      " -0.05648258 -0.05413198  0.05627433 -0.04128056  0.01403201  0.05957552\n",
      "  0.07190096 -0.17336477  0.01334898 -0.09120337  0.03286209 -0.13874553\n",
      " -0.08720814 -0.1703112   0.05991164  0.10519896 -0.25290167 -0.03896395\n",
      "  0.06550569  0.1282792  -0.00620425  0.2015469  -0.10734709  0.135459\n",
      " -0.23975046 -0.15221024  0.11116111  0.20994684 -0.07564463  0.00265447\n",
      "  0.16570807  0.10911655 -0.03506184 -0.10576703  0.17713788  0.07817188\n",
      " -0.03046211  0.09476695 -0.0528328  -0.05730831 -0.10568077  0.0574553\n",
      " -0.06900898  0.06662628  0.07778969  0.17560418 -0.02309362  0.09657791\n",
      "  0.14915043  0.07063024 -0.18445107 -0.08898515  0.08135463  0.23068441\n",
      " -0.18824776 -0.02575006  0.16016035 -0.07816905 -0.15797669 -0.16627118\n",
      " -0.10469219  0.03566237 -0.04598024 -0.11838721 -0.03024698 -0.05490786\n",
      " -0.08979092 -0.05901982 -0.19589368  0.03660325 -0.05222191 -0.01359405\n",
      "  0.12465519  0.12900238 -0.06251927  0.16638574  0.01555592  0.05503477\n",
      " -0.14540577 -0.36911798 -0.07300727  0.09454889  0.00621087 -0.06800497\n",
      "  0.11070468  0.18694066  0.08359884 -0.08212994  0.01599336  0.1062133\n",
      " -0.0006528   0.06386729 -0.1653539   0.03948589 -0.04396595 -0.23377305\n",
      "  0.11107731  0.03068796 -0.03436293 -0.09614903 -0.00432954 -0.06719545\n",
      " -0.00199226 -0.14194082  0.04029594 -0.02093752  0.10127527 -0.0743966\n",
      " -0.08987292  0.00595743  0.00108047  0.2385339  -0.00039754  0.2985121\n",
      " -0.02306304 -0.2940267  -0.00443197  0.04195288  0.1164306  -0.08306184\n",
      " -0.05083246  0.09911846 -0.12852004  0.02485628 -0.10793402  0.00077265\n",
      " -0.15143426  0.1984816   0.01094399 -0.00046787  0.14311498  0.03742124\n",
      "  0.13509664  0.09593271  0.23890686 -0.01375201  0.1655518   0.01235259\n",
      "  0.05513274 -0.00995221 -0.00539333  0.16485608 -0.01174729 -0.23015738\n",
      "  0.15145335  0.06149856  0.24899362  0.08521856  0.05626469  0.0820331\n",
      "  0.01893263 -0.05896806  0.01383794 -0.21706694 -0.09195379 -0.02142571\n",
      " -0.03052966 -0.08003319 -0.12237707 -0.0926839  -0.00362375  0.18306343\n",
      "  0.13287276 -0.09084953  0.10186068  0.15094833  0.09791091 -0.21005249\n",
      " -0.19220604  0.12127408  0.05761092 -0.19457    -0.00101193 -0.03548517\n",
      " -0.01304991  0.05341237 -0.07593406 -0.08746792  0.16004032 -0.05564933\n",
      " -0.02191415 -0.0630913   0.12054884  0.09846593  0.03931207 -0.07287385\n",
      " -0.17389175 -0.10586374 -0.12271657 -0.01313912]\n"
     ]
    }
   ],
   "source": [
    "# el método `get_vector` permite obtener los vectores:\n",
    "vector_futuro = w2v_model.wv.get_vector(\"futuro\")\n",
    "print(vector_futuro)"
   ]
  },
  {
   "cell_type": "code",
   "execution_count": null,
   "metadata": {},
   "outputs": [
    {
     "data": {
      "text/plain": [
       "[('futuro', 0.9999999403953552),\n",
       " ('indiferente', 0.9489802122116089),\n",
       " ('local', 0.9475724697113037),\n",
       " ('decente', 0.9464311599731445),\n",
       " ('ayer', 0.9429251551628113),\n",
       " ('inmediato', 0.9412068128585815),\n",
       " ('narrador', 0.9411382675170898),\n",
       " ('atributo', 0.940750241279602),\n",
       " ('negar', 0.939579963684082),\n",
       " ('ley', 0.939224362373352)]"
      ]
     },
     "execution_count": 84,
     "metadata": {},
     "output_type": "execute_result"
    }
   ],
   "source": [
    "# el método `most_similar` también permite comparar a partir de vectores\n",
    "w2v_model.wv.most_similar(vector_futuro)"
   ]
  },
  {
   "cell_type": "code",
   "execution_count": null,
   "metadata": {},
   "outputs": [
    {
     "data": {
      "text/plain": [
       "[('quinta', 0.8296251893043518),\n",
       " ('pieza', 0.806225061416626),\n",
       " ('cabaña', 0.8043193817138672),\n",
       " ('inglesa', 0.7969458699226379),\n",
       " ('vuelta', 0.7911803126335144),\n",
       " ('cayó', 0.7843554615974426),\n",
       " ('hermano', 0.7842481732368469),\n",
       " ('rancho', 0.7806351184844971),\n",
       " ('garay', 0.7787056565284729),\n",
       " ('oscuridad', 0.7764340043067932)]"
      ]
     },
     "execution_count": 64,
     "metadata": {},
     "output_type": "execute_result"
    }
   ],
   "source": [
    "# Palabras que MÁS se relacionan con...:\n",
    "w2v_model.wv.most_similar(positive=[\"casa\"], topn=10)"
   ]
  },
  {
   "cell_type": "markdown",
   "metadata": {
    "id": "_g8UVWe6lFmh"
   },
   "source": [
    "### 5 - Visualizar agrupación de vectores"
   ]
  },
  {
   "cell_type": "code",
   "execution_count": null,
   "metadata": {
    "id": "pDxEVXAivjr9"
   },
   "outputs": [],
   "source": [
    "from sklearn.decomposition import IncrementalPCA    \n",
    "from sklearn.manifold import TSNE                   \n",
    "import numpy as np                                  \n",
    "\n",
    "def reduce_dimensions(model, num_dimensions = 2 ):\n",
    "     \n",
    "    vectors = np.asarray(model.wv.vectors)\n",
    "    labels = np.asarray(model.wv.index_to_key)  \n",
    "\n",
    "    tsne = TSNE(n_components=num_dimensions, random_state=0)\n",
    "    vectors = tsne.fit_transform(vectors)\n",
    "\n",
    "    return vectors, labels"
   ]
  },
  {
   "cell_type": "code",
   "execution_count": null,
   "metadata": {
    "id": "NCCXtDpcugmd"
   },
   "outputs": [
    {
     "data": {
      "application/vnd.plotly.v1+json": {
       "config": {
        "plotlyServerURL": "https://plot.ly"
       },
       "data": [
        {
         "hovertemplate": "x=%{x}<br>y=%{y}<br>text=%{text}<extra></extra>",
         "legendgroup": "",
         "marker": {
          "color": "#636efa",
          "symbol": "circle"
         },
         "mode": "markers+text",
         "name": "",
         "orientation": "v",
         "showlegend": false,
         "text": [
          "de",
          "la",
          "que",
          "el",
          "y",
          "en",
          "los",
          "a",
          "un",
          "no",
          "una",
          "del",
          "las",
          "lo",
          "se",
          "con",
          "es",
          "me",
          "su",
          "por",
          "le",
          "al",
          "o",
          "era",
          "para",
          "había",
          "pero",
          "como",
          "más",
          "mi",
          "esa",
          "yo",
          "hombre",
          "ese",
          "sin",
          "ya",
          "dos",
          "sus",
          "si",
          "fue",
          "otro",
          "son",
          "hombres",
          "ha",
          "vez",
          "noche",
          "hay",
          "he",
          "fin",
          "también",
          "todos",
          "él",
          "después",
          "dijo",
          "uno",
          "todo",
          "estaba",
          "años",
          "casi",
          "otra",
          "tiempo",
          "ni",
          "ahora",
          "cuando",
          "entre",
          "libro",
          "historia",
          "este",
          "nombre",
          "porque",
          "hasta",
          "cada",
          "nos",
          "solo",
          "muy",
          "tal",
          "sobre",
          "dios",
          "día",
          "otros",
          "palabras",
          "eran",
          "nadie",
          "ser",
          "vi",
          "casa",
          "antes",
          "muerte",
          "sido",
          "menos",
          "esas",
          "tres",
          "está",
          "tierra",
          "algún",
          "mundo",
          "hecho",
          "puede",
          "sé",
          "ojos",
          "desde",
          "veces",
          "unos",
          "todas",
          "esos",
          "alguna",
          "voz",
          "días",
          "así",
          "sino",
          "primera",
          "tan",
          "entonces",
          "han",
          "luego",
          "aquel",
          "unas",
          "esta",
          "nunca",
          "mujer",
          "libros",
          "hacia",
          "noches",
          "recuerdo",
          "cosas",
          "nada",
          "cara",
          "algo",
          "les",
          "muchos",
          "mano",
          "poco",
          "obra",
          "mis",
          "otras",
          "tarde",
          "siglo",
          "mismo",
          "biblioteca",
          "modo",
          "palabra",
          "donde",
          "qué",
          "siempre",
          "iba",
          "quien",
          "ciudad",
          "alguien",
          "vio",
          "número",
          "cuatro",
          "laberinto",
          "tenía",
          "lugar",
          "sabía",
          "sangre",
          "fuera",
          "segundo",
          "habían",
          "acaso",
          "juan",
          "cosa",
          "bien",
          "hizo",
          "contra",
          "infinito",
          "muerto",
          "vida",
          "dio",
          "universo",
          "hace",
          "primer",
          "tiene",
          "realidad",
          "dahlmann",
          "principio",
          "aunque",
          "cuyo",
          "podía",
          "cruz",
          "sueño",
          "puerta",
          "secreto",
          "memoria",
          "hechos",
          "fueron",
          "quizá",
          "verdad",
          "soy",
          "padre",
          "te",
          "aleph",
          "sola",
          "sea",
          "bajo",
          "murió",
          "último",
          "toda",
          "acto",
          "tlön"
         ],
         "type": "scatter",
         "x": [
          24.50897,
          14.506711,
          -26.56207,
          18.688969,
          16.103394,
          16.524986,
          37.729355,
          -17.27592,
          -18.780846,
          -35.991646,
          13.007725,
          19.09048,
          29.197035,
          -23.712349,
          -9.826565,
          -11.751751,
          -21.2203,
          -34.78473,
          -6.2966876,
          -12.96909,
          -35.281975,
          15.206355,
          28.242588,
          -24.753021,
          -0.69036996,
          -42.2453,
          -26.926931,
          -28.896288,
          -24.622972,
          -27.724312,
          10.358474,
          -36.592594,
          -16.730158,
          17.324915,
          -30.773407,
          -38.575733,
          26.342611,
          12.444535,
          -36.64257,
          -8.710133,
          -15.2161255,
          20.054634,
          15.04314,
          -42.321033,
          -10.324577,
          9.638473,
          -1.3384242,
          -43.332756,
          21.6447,
          -14.484384,
          16.570993,
          -25.36324,
          41.436943,
          -30.46233,
          11.906783,
          -18.343485,
          -2.6960363,
          40.179394,
          -10.280175,
          -14.185166,
          -20.496191,
          -37.329704,
          -33.968636,
          -4.1024394,
          25.168097,
          29.322819,
          3.1055021,
          -6.337373,
          14.820352,
          -22.74268,
          -15.651738,
          34.05185,
          -2.0930254,
          -21.14403,
          -28.209698,
          -12.194493,
          20.910845,
          -19.951708,
          19.243446,
          14.842464,
          29.362988,
          29.38512,
          -24.905693,
          -21.146078,
          26.540154,
          6.217844,
          11.277957,
          -3.2467096,
          -44.09219,
          -24.349571,
          27.923275,
          38.454,
          -18.002949,
          26.514782,
          -10.096126,
          -16.542751,
          -15.321618,
          -24.022379,
          -36.892677,
          34.496483,
          19.164425,
          27.429295,
          41.510242,
          27.634146,
          37.700764,
          -14.759777,
          -32.59449,
          39.954403,
          -21.356012,
          -7.371368,
          22.265633,
          -21.367249,
          -3.9868288,
          -6.5819182,
          -4.9018793,
          -23.68952,
          30.527225,
          10.249543,
          -42.347916,
          5.8821297,
          14.305769,
          30.990278,
          36.718933,
          -30.302252,
          28.692373,
          -36.54363,
          2.8237536,
          -34.90923,
          -35.212757,
          38.9358,
          3.767986,
          -3.482046,
          2.608659,
          15.523499,
          28.859741,
          9.258682,
          24.153528,
          25.521229,
          5.3010597,
          26.638823,
          -3.9305205,
          29.459442,
          -36.231125,
          -22.107027,
          -11.118532,
          -41.75303,
          15.438257,
          -37.263744,
          9.149773,
          29.060112,
          37.73413,
          -10.327041,
          -27.887627,
          -5.3381553,
          -38.752907,
          -2.4635842,
          -31.048103,
          32.435814,
          -42.816383,
          -2.878149,
          -22.47351,
          -11.674686,
          -30.096642,
          -29.462303,
          20.81254,
          -10.003779,
          -38.879696,
          0.70437616,
          1.11937,
          -8.097739,
          38.63476,
          31.166012,
          -16.932045,
          -6.8624544,
          -14.248676,
          -9.807848,
          -15.68316,
          17.243935,
          -36.362476,
          26.318892,
          27.920029,
          4.717646,
          -17.48961,
          -34.763798,
          13.341444,
          20.803951,
          -5.705479,
          -33.636932,
          -32.238598,
          -22.986155,
          -35.52168,
          21.711952,
          -12.79389,
          -16.006727,
          11.159646,
          11.304622,
          18.81987,
          9.576613,
          -6.9587016,
          -2.9587526
         ],
         "xaxis": "x",
         "y": [
          -3.9524522,
          3.0492458,
          9.994257,
          -33.60922,
          7.3809185,
          -12.956577,
          20.831297,
          29.742601,
          -28.34582,
          8.738066,
          1.8804698,
          -33.41107,
          25.900415,
          10.320254,
          -30.743929,
          -2.310785,
          20.180756,
          -9.83115,
          -10.723007,
          28.739445,
          -11.196411,
          -14.8814125,
          -3.0677707,
          -12.624496,
          11.87782,
          5.8255744,
          10.283247,
          20.850142,
          18.65446,
          -20.979092,
          1.8616756,
          -6.170546,
          -6.8811955,
          -35.368195,
          16.538025,
          -9.5384865,
          31.12946,
          29.202673,
          -1.9195818,
          7.856984,
          -26.845457,
          28.905664,
          24.191088,
          3.758189,
          14.263494,
          -25.757196,
          25.912712,
          2.2583587,
          -29.289251,
          20.701849,
          23.75149,
          -2.8014567,
          7.4372354,
          -7.3618827,
          25.318323,
          20.588938,
          -34.54643,
          15.019658,
          32.49469,
          13.016428,
          -11.869011,
          14.800241,
          -4.3681617,
          -28.554972,
          -0.1413904,
          -11.292689,
          8.083167,
          -7.6950994,
          -34.626423,
          12.024334,
          -25.504614,
          9.357408,
          -26.644861,
          -6.977738,
          3.5375028,
          14.29983,
          -8.479715,
          -14.227036,
          -23.78112,
          21.432293,
          23.356752,
          20.840086,
          -1.4497044,
          -8.186032,
          -14.656627,
          -24.941996,
          -29.938095,
          -19.932165,
          -6.368568,
          17.465363,
          24.624609,
          8.010061,
          8.561263,
          -11.980328,
          26.039616,
          18.80575,
          -5.8986273,
          21.027248,
          0.66796017,
          26.24238,
          -25.760881,
          31.28736,
          10.23634,
          27.118177,
          20.60919,
          12.334655,
          -19.119112,
          12.602744,
          7.306078,
          19.563194,
          -1.9327011,
          18.22729,
          -22.962713,
          31.18731,
          -20.921167,
          -18.472765,
          22.400356,
          1.8677127,
          -5.0396104,
          -22.777405,
          26.223986,
          0.7038575,
          6.8522325,
          8.183523,
          27.562065,
          -0.13812785,
          -31.692469,
          6.9182134,
          -10.830018,
          15.751144,
          -35.30322,
          23.874584,
          11.462213,
          34.08295,
          25.282423,
          -25.803265,
          -16.375319,
          2.742579,
          8.689831,
          8.150717,
          20.07557,
          0.10996002,
          -1.4790566,
          -5.402017,
          -25.45785,
          -2.713049,
          6.1749425,
          -4.5085897,
          -29.242521,
          9.851553,
          9.221809,
          -2.347325,
          -8.003407,
          -6.0711985,
          7.8974977,
          -23.392202,
          1.9184722,
          -7.110683,
          6.401227,
          13.799074,
          27.708176,
          16.440933,
          3.0104203,
          -11.548356,
          14.378414,
          20.805496,
          -9.350291,
          10.286663,
          -31.656336,
          -1.5902517,
          16.840157,
          -9.072543,
          14.752512,
          18.341139,
          9.3224,
          -27.548338,
          21.756773,
          -34.07429,
          5.0701823,
          -27.112589,
          11.957782,
          -32.686794,
          -12.98042,
          11.101423,
          23.216005,
          17.925753,
          26.79144,
          8.18005,
          4.4985933,
          -23.372066,
          -2.1839426,
          -28.18727,
          11.915011,
          23.801422,
          -13.877085,
          -23.136576,
          -20.665346,
          1.7174997,
          -5.98731,
          28.758944
         ],
         "yaxis": "y"
        }
       ],
       "layout": {
        "legend": {
         "tracegroupgap": 0
        },
        "margin": {
         "t": 60
        },
        "template": {
         "data": {
          "bar": [
           {
            "error_x": {
             "color": "#2a3f5f"
            },
            "error_y": {
             "color": "#2a3f5f"
            },
            "marker": {
             "line": {
              "color": "#E5ECF6",
              "width": 0.5
             },
             "pattern": {
              "fillmode": "overlay",
              "size": 10,
              "solidity": 0.2
             }
            },
            "type": "bar"
           }
          ],
          "barpolar": [
           {
            "marker": {
             "line": {
              "color": "#E5ECF6",
              "width": 0.5
             },
             "pattern": {
              "fillmode": "overlay",
              "size": 10,
              "solidity": 0.2
             }
            },
            "type": "barpolar"
           }
          ],
          "carpet": [
           {
            "aaxis": {
             "endlinecolor": "#2a3f5f",
             "gridcolor": "white",
             "linecolor": "white",
             "minorgridcolor": "white",
             "startlinecolor": "#2a3f5f"
            },
            "baxis": {
             "endlinecolor": "#2a3f5f",
             "gridcolor": "white",
             "linecolor": "white",
             "minorgridcolor": "white",
             "startlinecolor": "#2a3f5f"
            },
            "type": "carpet"
           }
          ],
          "choropleth": [
           {
            "colorbar": {
             "outlinewidth": 0,
             "ticks": ""
            },
            "type": "choropleth"
           }
          ],
          "contour": [
           {
            "colorbar": {
             "outlinewidth": 0,
             "ticks": ""
            },
            "colorscale": [
             [
              0,
              "#0d0887"
             ],
             [
              0.1111111111111111,
              "#46039f"
             ],
             [
              0.2222222222222222,
              "#7201a8"
             ],
             [
              0.3333333333333333,
              "#9c179e"
             ],
             [
              0.4444444444444444,
              "#bd3786"
             ],
             [
              0.5555555555555556,
              "#d8576b"
             ],
             [
              0.6666666666666666,
              "#ed7953"
             ],
             [
              0.7777777777777778,
              "#fb9f3a"
             ],
             [
              0.8888888888888888,
              "#fdca26"
             ],
             [
              1,
              "#f0f921"
             ]
            ],
            "type": "contour"
           }
          ],
          "contourcarpet": [
           {
            "colorbar": {
             "outlinewidth": 0,
             "ticks": ""
            },
            "type": "contourcarpet"
           }
          ],
          "heatmap": [
           {
            "colorbar": {
             "outlinewidth": 0,
             "ticks": ""
            },
            "colorscale": [
             [
              0,
              "#0d0887"
             ],
             [
              0.1111111111111111,
              "#46039f"
             ],
             [
              0.2222222222222222,
              "#7201a8"
             ],
             [
              0.3333333333333333,
              "#9c179e"
             ],
             [
              0.4444444444444444,
              "#bd3786"
             ],
             [
              0.5555555555555556,
              "#d8576b"
             ],
             [
              0.6666666666666666,
              "#ed7953"
             ],
             [
              0.7777777777777778,
              "#fb9f3a"
             ],
             [
              0.8888888888888888,
              "#fdca26"
             ],
             [
              1,
              "#f0f921"
             ]
            ],
            "type": "heatmap"
           }
          ],
          "heatmapgl": [
           {
            "colorbar": {
             "outlinewidth": 0,
             "ticks": ""
            },
            "colorscale": [
             [
              0,
              "#0d0887"
             ],
             [
              0.1111111111111111,
              "#46039f"
             ],
             [
              0.2222222222222222,
              "#7201a8"
             ],
             [
              0.3333333333333333,
              "#9c179e"
             ],
             [
              0.4444444444444444,
              "#bd3786"
             ],
             [
              0.5555555555555556,
              "#d8576b"
             ],
             [
              0.6666666666666666,
              "#ed7953"
             ],
             [
              0.7777777777777778,
              "#fb9f3a"
             ],
             [
              0.8888888888888888,
              "#fdca26"
             ],
             [
              1,
              "#f0f921"
             ]
            ],
            "type": "heatmapgl"
           }
          ],
          "histogram": [
           {
            "marker": {
             "pattern": {
              "fillmode": "overlay",
              "size": 10,
              "solidity": 0.2
             }
            },
            "type": "histogram"
           }
          ],
          "histogram2d": [
           {
            "colorbar": {
             "outlinewidth": 0,
             "ticks": ""
            },
            "colorscale": [
             [
              0,
              "#0d0887"
             ],
             [
              0.1111111111111111,
              "#46039f"
             ],
             [
              0.2222222222222222,
              "#7201a8"
             ],
             [
              0.3333333333333333,
              "#9c179e"
             ],
             [
              0.4444444444444444,
              "#bd3786"
             ],
             [
              0.5555555555555556,
              "#d8576b"
             ],
             [
              0.6666666666666666,
              "#ed7953"
             ],
             [
              0.7777777777777778,
              "#fb9f3a"
             ],
             [
              0.8888888888888888,
              "#fdca26"
             ],
             [
              1,
              "#f0f921"
             ]
            ],
            "type": "histogram2d"
           }
          ],
          "histogram2dcontour": [
           {
            "colorbar": {
             "outlinewidth": 0,
             "ticks": ""
            },
            "colorscale": [
             [
              0,
              "#0d0887"
             ],
             [
              0.1111111111111111,
              "#46039f"
             ],
             [
              0.2222222222222222,
              "#7201a8"
             ],
             [
              0.3333333333333333,
              "#9c179e"
             ],
             [
              0.4444444444444444,
              "#bd3786"
             ],
             [
              0.5555555555555556,
              "#d8576b"
             ],
             [
              0.6666666666666666,
              "#ed7953"
             ],
             [
              0.7777777777777778,
              "#fb9f3a"
             ],
             [
              0.8888888888888888,
              "#fdca26"
             ],
             [
              1,
              "#f0f921"
             ]
            ],
            "type": "histogram2dcontour"
           }
          ],
          "mesh3d": [
           {
            "colorbar": {
             "outlinewidth": 0,
             "ticks": ""
            },
            "type": "mesh3d"
           }
          ],
          "parcoords": [
           {
            "line": {
             "colorbar": {
              "outlinewidth": 0,
              "ticks": ""
             }
            },
            "type": "parcoords"
           }
          ],
          "pie": [
           {
            "automargin": true,
            "type": "pie"
           }
          ],
          "scatter": [
           {
            "fillpattern": {
             "fillmode": "overlay",
             "size": 10,
             "solidity": 0.2
            },
            "type": "scatter"
           }
          ],
          "scatter3d": [
           {
            "line": {
             "colorbar": {
              "outlinewidth": 0,
              "ticks": ""
             }
            },
            "marker": {
             "colorbar": {
              "outlinewidth": 0,
              "ticks": ""
             }
            },
            "type": "scatter3d"
           }
          ],
          "scattercarpet": [
           {
            "marker": {
             "colorbar": {
              "outlinewidth": 0,
              "ticks": ""
             }
            },
            "type": "scattercarpet"
           }
          ],
          "scattergeo": [
           {
            "marker": {
             "colorbar": {
              "outlinewidth": 0,
              "ticks": ""
             }
            },
            "type": "scattergeo"
           }
          ],
          "scattergl": [
           {
            "marker": {
             "colorbar": {
              "outlinewidth": 0,
              "ticks": ""
             }
            },
            "type": "scattergl"
           }
          ],
          "scattermapbox": [
           {
            "marker": {
             "colorbar": {
              "outlinewidth": 0,
              "ticks": ""
             }
            },
            "type": "scattermapbox"
           }
          ],
          "scatterpolar": [
           {
            "marker": {
             "colorbar": {
              "outlinewidth": 0,
              "ticks": ""
             }
            },
            "type": "scatterpolar"
           }
          ],
          "scatterpolargl": [
           {
            "marker": {
             "colorbar": {
              "outlinewidth": 0,
              "ticks": ""
             }
            },
            "type": "scatterpolargl"
           }
          ],
          "scatterternary": [
           {
            "marker": {
             "colorbar": {
              "outlinewidth": 0,
              "ticks": ""
             }
            },
            "type": "scatterternary"
           }
          ],
          "surface": [
           {
            "colorbar": {
             "outlinewidth": 0,
             "ticks": ""
            },
            "colorscale": [
             [
              0,
              "#0d0887"
             ],
             [
              0.1111111111111111,
              "#46039f"
             ],
             [
              0.2222222222222222,
              "#7201a8"
             ],
             [
              0.3333333333333333,
              "#9c179e"
             ],
             [
              0.4444444444444444,
              "#bd3786"
             ],
             [
              0.5555555555555556,
              "#d8576b"
             ],
             [
              0.6666666666666666,
              "#ed7953"
             ],
             [
              0.7777777777777778,
              "#fb9f3a"
             ],
             [
              0.8888888888888888,
              "#fdca26"
             ],
             [
              1,
              "#f0f921"
             ]
            ],
            "type": "surface"
           }
          ],
          "table": [
           {
            "cells": {
             "fill": {
              "color": "#EBF0F8"
             },
             "line": {
              "color": "white"
             }
            },
            "header": {
             "fill": {
              "color": "#C8D4E3"
             },
             "line": {
              "color": "white"
             }
            },
            "type": "table"
           }
          ]
         },
         "layout": {
          "annotationdefaults": {
           "arrowcolor": "#2a3f5f",
           "arrowhead": 0,
           "arrowwidth": 1
          },
          "autotypenumbers": "strict",
          "coloraxis": {
           "colorbar": {
            "outlinewidth": 0,
            "ticks": ""
           }
          },
          "colorscale": {
           "diverging": [
            [
             0,
             "#8e0152"
            ],
            [
             0.1,
             "#c51b7d"
            ],
            [
             0.2,
             "#de77ae"
            ],
            [
             0.3,
             "#f1b6da"
            ],
            [
             0.4,
             "#fde0ef"
            ],
            [
             0.5,
             "#f7f7f7"
            ],
            [
             0.6,
             "#e6f5d0"
            ],
            [
             0.7,
             "#b8e186"
            ],
            [
             0.8,
             "#7fbc41"
            ],
            [
             0.9,
             "#4d9221"
            ],
            [
             1,
             "#276419"
            ]
           ],
           "sequential": [
            [
             0,
             "#0d0887"
            ],
            [
             0.1111111111111111,
             "#46039f"
            ],
            [
             0.2222222222222222,
             "#7201a8"
            ],
            [
             0.3333333333333333,
             "#9c179e"
            ],
            [
             0.4444444444444444,
             "#bd3786"
            ],
            [
             0.5555555555555556,
             "#d8576b"
            ],
            [
             0.6666666666666666,
             "#ed7953"
            ],
            [
             0.7777777777777778,
             "#fb9f3a"
            ],
            [
             0.8888888888888888,
             "#fdca26"
            ],
            [
             1,
             "#f0f921"
            ]
           ],
           "sequentialminus": [
            [
             0,
             "#0d0887"
            ],
            [
             0.1111111111111111,
             "#46039f"
            ],
            [
             0.2222222222222222,
             "#7201a8"
            ],
            [
             0.3333333333333333,
             "#9c179e"
            ],
            [
             0.4444444444444444,
             "#bd3786"
            ],
            [
             0.5555555555555556,
             "#d8576b"
            ],
            [
             0.6666666666666666,
             "#ed7953"
            ],
            [
             0.7777777777777778,
             "#fb9f3a"
            ],
            [
             0.8888888888888888,
             "#fdca26"
            ],
            [
             1,
             "#f0f921"
            ]
           ]
          },
          "colorway": [
           "#636efa",
           "#EF553B",
           "#00cc96",
           "#ab63fa",
           "#FFA15A",
           "#19d3f3",
           "#FF6692",
           "#B6E880",
           "#FF97FF",
           "#FECB52"
          ],
          "font": {
           "color": "#2a3f5f"
          },
          "geo": {
           "bgcolor": "white",
           "lakecolor": "white",
           "landcolor": "#E5ECF6",
           "showlakes": true,
           "showland": true,
           "subunitcolor": "white"
          },
          "hoverlabel": {
           "align": "left"
          },
          "hovermode": "closest",
          "mapbox": {
           "style": "light"
          },
          "paper_bgcolor": "white",
          "plot_bgcolor": "#E5ECF6",
          "polar": {
           "angularaxis": {
            "gridcolor": "white",
            "linecolor": "white",
            "ticks": ""
           },
           "bgcolor": "#E5ECF6",
           "radialaxis": {
            "gridcolor": "white",
            "linecolor": "white",
            "ticks": ""
           }
          },
          "scene": {
           "xaxis": {
            "backgroundcolor": "#E5ECF6",
            "gridcolor": "white",
            "gridwidth": 2,
            "linecolor": "white",
            "showbackground": true,
            "ticks": "",
            "zerolinecolor": "white"
           },
           "yaxis": {
            "backgroundcolor": "#E5ECF6",
            "gridcolor": "white",
            "gridwidth": 2,
            "linecolor": "white",
            "showbackground": true,
            "ticks": "",
            "zerolinecolor": "white"
           },
           "zaxis": {
            "backgroundcolor": "#E5ECF6",
            "gridcolor": "white",
            "gridwidth": 2,
            "linecolor": "white",
            "showbackground": true,
            "ticks": "",
            "zerolinecolor": "white"
           }
          },
          "shapedefaults": {
           "line": {
            "color": "#2a3f5f"
           }
          },
          "ternary": {
           "aaxis": {
            "gridcolor": "white",
            "linecolor": "white",
            "ticks": ""
           },
           "baxis": {
            "gridcolor": "white",
            "linecolor": "white",
            "ticks": ""
           },
           "bgcolor": "#E5ECF6",
           "caxis": {
            "gridcolor": "white",
            "linecolor": "white",
            "ticks": ""
           }
          },
          "title": {
           "x": 0.05
          },
          "xaxis": {
           "automargin": true,
           "gridcolor": "white",
           "linecolor": "white",
           "ticks": "",
           "title": {
            "standoff": 15
           },
           "zerolinecolor": "white",
           "zerolinewidth": 2
          },
          "yaxis": {
           "automargin": true,
           "gridcolor": "white",
           "linecolor": "white",
           "ticks": "",
           "title": {
            "standoff": 15
           },
           "zerolinecolor": "white",
           "zerolinewidth": 2
          }
         }
        },
        "xaxis": {
         "anchor": "y",
         "domain": [
          0,
          1
         ],
         "title": {
          "text": "x"
         }
        },
        "yaxis": {
         "anchor": "x",
         "domain": [
          0,
          1
         ],
         "title": {
          "text": "y"
         }
        }
       }
      }
     },
     "metadata": {},
     "output_type": "display_data"
    }
   ],
   "source": [
    "# Graficar los embedddings en 2D\n",
    "import plotly.graph_objects as go\n",
    "import plotly.express as px\n",
    "\n",
    "vecs, labels = reduce_dimensions(w2v_model)\n",
    "\n",
    "MAX_WORDS=200\n",
    "px.scatter(x=vecs[:MAX_WORDS,0], y=vecs[:MAX_WORDS,1], text=labels[:MAX_WORDS])\n",
    "#fig.show(renderer=\"colab\") # esto para plotly en colab"
   ]
  },
  {
   "cell_type": "code",
   "execution_count": 110,
   "metadata": {},
   "outputs": [
    {
     "data": {
      "application/vnd.plotly.v1+json": {
       "config": {
        "plotlyServerURL": "https://plot.ly"
       },
       "data": [
        {
         "hovertemplate": "x=%{x}<br>y=%{y}<br>text=%{text}<extra></extra>",
         "legendgroup": "",
         "marker": {
          "color": "#636efa",
          "symbol": "circle"
         },
         "mode": "markers+text",
         "name": "",
         "orientation": "v",
         "showlegend": false,
         "text": [
          "de",
          "la",
          "que",
          "el",
          "y",
          "en",
          "los",
          "a",
          "un",
          "no",
          "una",
          "del",
          "las",
          "lo",
          "se",
          "con",
          "es",
          "me",
          "su",
          "por",
          "le",
          "al",
          "o",
          "era",
          "para",
          "había",
          "pero",
          "como",
          "más",
          "mi",
          "esa",
          "yo",
          "hombre",
          "ese",
          "sin",
          "ya",
          "dos",
          "sus",
          "si",
          "fue",
          "otro",
          "son",
          "hombres",
          "ha",
          "vez",
          "noche",
          "hay",
          "he",
          "fin",
          "también",
          "todos",
          "él",
          "después",
          "dijo",
          "uno",
          "todo",
          "estaba",
          "años",
          "casi",
          "otra",
          "tiempo",
          "ni",
          "ahora",
          "cuando",
          "entre",
          "libro",
          "historia",
          "este",
          "nombre",
          "porque",
          "hasta",
          "cada",
          "nos",
          "solo",
          "muy",
          "tal",
          "sobre",
          "dios",
          "día",
          "otros",
          "palabras",
          "eran",
          "nadie",
          "ser",
          "vi",
          "casa",
          "antes",
          "muerte",
          "sido",
          "menos",
          "esas",
          "tres",
          "está",
          "tierra",
          "algún",
          "mundo",
          "hecho",
          "puede",
          "sé",
          "ojos",
          "desde",
          "veces",
          "unos",
          "todas",
          "esos",
          "alguna",
          "voz",
          "días",
          "así",
          "sino",
          "primera",
          "tan",
          "entonces",
          "han",
          "luego",
          "aquel",
          "unas",
          "esta",
          "nunca",
          "mujer",
          "libros",
          "hacia",
          "noches",
          "recuerdo",
          "cosas",
          "nada",
          "cara",
          "algo",
          "les",
          "muchos",
          "mano",
          "poco",
          "obra",
          "mis",
          "otras",
          "tarde",
          "siglo",
          "mismo",
          "biblioteca",
          "modo",
          "palabra",
          "donde",
          "qué",
          "siempre",
          "iba",
          "quien",
          "ciudad",
          "alguien",
          "vio",
          "número",
          "cuatro",
          "laberinto",
          "tenía",
          "lugar",
          "sabía",
          "sangre",
          "fuera",
          "segundo",
          "habían",
          "acaso",
          "juan",
          "cosa",
          "bien",
          "hizo",
          "contra",
          "infinito",
          "muerto",
          "vida",
          "dio",
          "universo",
          "hace",
          "primer",
          "tiene",
          "realidad",
          "dahlmann",
          "principio",
          "aunque",
          "cuyo",
          "podía",
          "cruz",
          "sueño",
          "puerta",
          "secreto",
          "memoria",
          "hechos",
          "fueron",
          "quizá",
          "verdad",
          "soy",
          "padre",
          "te",
          "aleph",
          "sola",
          "sea",
          "bajo",
          "murió",
          "último",
          "toda",
          "acto",
          "tlön"
         ],
         "type": "scatter",
         "x": [
          24.50897,
          14.506711,
          -26.56207,
          18.688969,
          16.103394,
          16.524986,
          37.729355,
          -17.27592,
          -18.780846,
          -35.991646,
          13.007725,
          19.09048,
          29.197035,
          -23.712349,
          -9.826565,
          -11.751751,
          -21.2203,
          -34.78473,
          -6.2966876,
          -12.96909,
          -35.281975,
          15.206355,
          28.242588,
          -24.753021,
          -0.69036996,
          -42.2453,
          -26.926931,
          -28.896288,
          -24.622972,
          -27.724312,
          10.358474,
          -36.592594,
          -16.730158,
          17.324915,
          -30.773407,
          -38.575733,
          26.342611,
          12.444535,
          -36.64257,
          -8.710133,
          -15.2161255,
          20.054634,
          15.04314,
          -42.321033,
          -10.324577,
          9.638473,
          -1.3384242,
          -43.332756,
          21.6447,
          -14.484384,
          16.570993,
          -25.36324,
          41.436943,
          -30.46233,
          11.906783,
          -18.343485,
          -2.6960363,
          40.179394,
          -10.280175,
          -14.185166,
          -20.496191,
          -37.329704,
          -33.968636,
          -4.1024394,
          25.168097,
          29.322819,
          3.1055021,
          -6.337373,
          14.820352,
          -22.74268,
          -15.651738,
          34.05185,
          -2.0930254,
          -21.14403,
          -28.209698,
          -12.194493,
          20.910845,
          -19.951708,
          19.243446,
          14.842464,
          29.362988,
          29.38512,
          -24.905693,
          -21.146078,
          26.540154,
          6.217844,
          11.277957,
          -3.2467096,
          -44.09219,
          -24.349571,
          27.923275,
          38.454,
          -18.002949,
          26.514782,
          -10.096126,
          -16.542751,
          -15.321618,
          -24.022379,
          -36.892677,
          34.496483,
          19.164425,
          27.429295,
          41.510242,
          27.634146,
          37.700764,
          -14.759777,
          -32.59449,
          39.954403,
          -21.356012,
          -7.371368,
          22.265633,
          -21.367249,
          -3.9868288,
          -6.5819182,
          -4.9018793,
          -23.68952,
          30.527225,
          10.249543,
          -42.347916,
          5.8821297,
          14.305769,
          30.990278,
          36.718933,
          -30.302252,
          28.692373,
          -36.54363,
          2.8237536,
          -34.90923,
          -35.212757,
          38.9358,
          3.767986,
          -3.482046,
          2.608659,
          15.523499,
          28.859741,
          9.258682,
          24.153528,
          25.521229,
          5.3010597,
          26.638823,
          -3.9305205,
          29.459442,
          -36.231125,
          -22.107027,
          -11.118532,
          -41.75303,
          15.438257,
          -37.263744,
          9.149773,
          29.060112,
          37.73413,
          -10.327041,
          -27.887627,
          -5.3381553,
          -38.752907,
          -2.4635842,
          -31.048103,
          32.435814,
          -42.816383,
          -2.878149,
          -22.47351,
          -11.674686,
          -30.096642,
          -29.462303,
          20.81254,
          -10.003779,
          -38.879696,
          0.70437616,
          1.11937,
          -8.097739,
          38.63476,
          31.166012,
          -16.932045,
          -6.8624544,
          -14.248676,
          -9.807848,
          -15.68316,
          17.243935,
          -36.362476,
          26.318892,
          27.920029,
          4.717646,
          -17.48961,
          -34.763798,
          13.341444,
          20.803951,
          -5.705479,
          -33.636932,
          -32.238598,
          -22.986155,
          -35.52168,
          21.711952,
          -12.79389,
          -16.006727,
          11.159646,
          11.304622,
          18.81987,
          9.576613,
          -6.9587016,
          -2.9587526
         ],
         "xaxis": "x",
         "y": [
          -3.9524522,
          3.0492458,
          9.994257,
          -33.60922,
          7.3809185,
          -12.956577,
          20.831297,
          29.742601,
          -28.34582,
          8.738066,
          1.8804698,
          -33.41107,
          25.900415,
          10.320254,
          -30.743929,
          -2.310785,
          20.180756,
          -9.83115,
          -10.723007,
          28.739445,
          -11.196411,
          -14.8814125,
          -3.0677707,
          -12.624496,
          11.87782,
          5.8255744,
          10.283247,
          20.850142,
          18.65446,
          -20.979092,
          1.8616756,
          -6.170546,
          -6.8811955,
          -35.368195,
          16.538025,
          -9.5384865,
          31.12946,
          29.202673,
          -1.9195818,
          7.856984,
          -26.845457,
          28.905664,
          24.191088,
          3.758189,
          14.263494,
          -25.757196,
          25.912712,
          2.2583587,
          -29.289251,
          20.701849,
          23.75149,
          -2.8014567,
          7.4372354,
          -7.3618827,
          25.318323,
          20.588938,
          -34.54643,
          15.019658,
          32.49469,
          13.016428,
          -11.869011,
          14.800241,
          -4.3681617,
          -28.554972,
          -0.1413904,
          -11.292689,
          8.083167,
          -7.6950994,
          -34.626423,
          12.024334,
          -25.504614,
          9.357408,
          -26.644861,
          -6.977738,
          3.5375028,
          14.29983,
          -8.479715,
          -14.227036,
          -23.78112,
          21.432293,
          23.356752,
          20.840086,
          -1.4497044,
          -8.186032,
          -14.656627,
          -24.941996,
          -29.938095,
          -19.932165,
          -6.368568,
          17.465363,
          24.624609,
          8.010061,
          8.561263,
          -11.980328,
          26.039616,
          18.80575,
          -5.8986273,
          21.027248,
          0.66796017,
          26.24238,
          -25.760881,
          31.28736,
          10.23634,
          27.118177,
          20.60919,
          12.334655,
          -19.119112,
          12.602744,
          7.306078,
          19.563194,
          -1.9327011,
          18.22729,
          -22.962713,
          31.18731,
          -20.921167,
          -18.472765,
          22.400356,
          1.8677127,
          -5.0396104,
          -22.777405,
          26.223986,
          0.7038575,
          6.8522325,
          8.183523,
          27.562065,
          -0.13812785,
          -31.692469,
          6.9182134,
          -10.830018,
          15.751144,
          -35.30322,
          23.874584,
          11.462213,
          34.08295,
          25.282423,
          -25.803265,
          -16.375319,
          2.742579,
          8.689831,
          8.150717,
          20.07557,
          0.10996002,
          -1.4790566,
          -5.402017,
          -25.45785,
          -2.713049,
          6.1749425,
          -4.5085897,
          -29.242521,
          9.851553,
          9.221809,
          -2.347325,
          -8.003407,
          -6.0711985,
          7.8974977,
          -23.392202,
          1.9184722,
          -7.110683,
          6.401227,
          13.799074,
          27.708176,
          16.440933,
          3.0104203,
          -11.548356,
          14.378414,
          20.805496,
          -9.350291,
          10.286663,
          -31.656336,
          -1.5902517,
          16.840157,
          -9.072543,
          14.752512,
          18.341139,
          9.3224,
          -27.548338,
          21.756773,
          -34.07429,
          5.0701823,
          -27.112589,
          11.957782,
          -32.686794,
          -12.98042,
          11.101423,
          23.216005,
          17.925753,
          26.79144,
          8.18005,
          4.4985933,
          -23.372066,
          -2.1839426,
          -28.18727,
          11.915011,
          23.801422,
          -13.877085,
          -23.136576,
          -20.665346,
          1.7174997,
          -5.98731,
          28.758944
         ],
         "yaxis": "y"
        }
       ],
       "layout": {
        "legend": {
         "tracegroupgap": 0
        },
        "margin": {
         "t": 60
        },
        "template": {
         "data": {
          "bar": [
           {
            "error_x": {
             "color": "#2a3f5f"
            },
            "error_y": {
             "color": "#2a3f5f"
            },
            "marker": {
             "line": {
              "color": "#E5ECF6",
              "width": 0.5
             },
             "pattern": {
              "fillmode": "overlay",
              "size": 10,
              "solidity": 0.2
             }
            },
            "type": "bar"
           }
          ],
          "barpolar": [
           {
            "marker": {
             "line": {
              "color": "#E5ECF6",
              "width": 0.5
             },
             "pattern": {
              "fillmode": "overlay",
              "size": 10,
              "solidity": 0.2
             }
            },
            "type": "barpolar"
           }
          ],
          "carpet": [
           {
            "aaxis": {
             "endlinecolor": "#2a3f5f",
             "gridcolor": "white",
             "linecolor": "white",
             "minorgridcolor": "white",
             "startlinecolor": "#2a3f5f"
            },
            "baxis": {
             "endlinecolor": "#2a3f5f",
             "gridcolor": "white",
             "linecolor": "white",
             "minorgridcolor": "white",
             "startlinecolor": "#2a3f5f"
            },
            "type": "carpet"
           }
          ],
          "choropleth": [
           {
            "colorbar": {
             "outlinewidth": 0,
             "ticks": ""
            },
            "type": "choropleth"
           }
          ],
          "contour": [
           {
            "colorbar": {
             "outlinewidth": 0,
             "ticks": ""
            },
            "colorscale": [
             [
              0,
              "#0d0887"
             ],
             [
              0.1111111111111111,
              "#46039f"
             ],
             [
              0.2222222222222222,
              "#7201a8"
             ],
             [
              0.3333333333333333,
              "#9c179e"
             ],
             [
              0.4444444444444444,
              "#bd3786"
             ],
             [
              0.5555555555555556,
              "#d8576b"
             ],
             [
              0.6666666666666666,
              "#ed7953"
             ],
             [
              0.7777777777777778,
              "#fb9f3a"
             ],
             [
              0.8888888888888888,
              "#fdca26"
             ],
             [
              1,
              "#f0f921"
             ]
            ],
            "type": "contour"
           }
          ],
          "contourcarpet": [
           {
            "colorbar": {
             "outlinewidth": 0,
             "ticks": ""
            },
            "type": "contourcarpet"
           }
          ],
          "heatmap": [
           {
            "colorbar": {
             "outlinewidth": 0,
             "ticks": ""
            },
            "colorscale": [
             [
              0,
              "#0d0887"
             ],
             [
              0.1111111111111111,
              "#46039f"
             ],
             [
              0.2222222222222222,
              "#7201a8"
             ],
             [
              0.3333333333333333,
              "#9c179e"
             ],
             [
              0.4444444444444444,
              "#bd3786"
             ],
             [
              0.5555555555555556,
              "#d8576b"
             ],
             [
              0.6666666666666666,
              "#ed7953"
             ],
             [
              0.7777777777777778,
              "#fb9f3a"
             ],
             [
              0.8888888888888888,
              "#fdca26"
             ],
             [
              1,
              "#f0f921"
             ]
            ],
            "type": "heatmap"
           }
          ],
          "heatmapgl": [
           {
            "colorbar": {
             "outlinewidth": 0,
             "ticks": ""
            },
            "colorscale": [
             [
              0,
              "#0d0887"
             ],
             [
              0.1111111111111111,
              "#46039f"
             ],
             [
              0.2222222222222222,
              "#7201a8"
             ],
             [
              0.3333333333333333,
              "#9c179e"
             ],
             [
              0.4444444444444444,
              "#bd3786"
             ],
             [
              0.5555555555555556,
              "#d8576b"
             ],
             [
              0.6666666666666666,
              "#ed7953"
             ],
             [
              0.7777777777777778,
              "#fb9f3a"
             ],
             [
              0.8888888888888888,
              "#fdca26"
             ],
             [
              1,
              "#f0f921"
             ]
            ],
            "type": "heatmapgl"
           }
          ],
          "histogram": [
           {
            "marker": {
             "pattern": {
              "fillmode": "overlay",
              "size": 10,
              "solidity": 0.2
             }
            },
            "type": "histogram"
           }
          ],
          "histogram2d": [
           {
            "colorbar": {
             "outlinewidth": 0,
             "ticks": ""
            },
            "colorscale": [
             [
              0,
              "#0d0887"
             ],
             [
              0.1111111111111111,
              "#46039f"
             ],
             [
              0.2222222222222222,
              "#7201a8"
             ],
             [
              0.3333333333333333,
              "#9c179e"
             ],
             [
              0.4444444444444444,
              "#bd3786"
             ],
             [
              0.5555555555555556,
              "#d8576b"
             ],
             [
              0.6666666666666666,
              "#ed7953"
             ],
             [
              0.7777777777777778,
              "#fb9f3a"
             ],
             [
              0.8888888888888888,
              "#fdca26"
             ],
             [
              1,
              "#f0f921"
             ]
            ],
            "type": "histogram2d"
           }
          ],
          "histogram2dcontour": [
           {
            "colorbar": {
             "outlinewidth": 0,
             "ticks": ""
            },
            "colorscale": [
             [
              0,
              "#0d0887"
             ],
             [
              0.1111111111111111,
              "#46039f"
             ],
             [
              0.2222222222222222,
              "#7201a8"
             ],
             [
              0.3333333333333333,
              "#9c179e"
             ],
             [
              0.4444444444444444,
              "#bd3786"
             ],
             [
              0.5555555555555556,
              "#d8576b"
             ],
             [
              0.6666666666666666,
              "#ed7953"
             ],
             [
              0.7777777777777778,
              "#fb9f3a"
             ],
             [
              0.8888888888888888,
              "#fdca26"
             ],
             [
              1,
              "#f0f921"
             ]
            ],
            "type": "histogram2dcontour"
           }
          ],
          "mesh3d": [
           {
            "colorbar": {
             "outlinewidth": 0,
             "ticks": ""
            },
            "type": "mesh3d"
           }
          ],
          "parcoords": [
           {
            "line": {
             "colorbar": {
              "outlinewidth": 0,
              "ticks": ""
             }
            },
            "type": "parcoords"
           }
          ],
          "pie": [
           {
            "automargin": true,
            "type": "pie"
           }
          ],
          "scatter": [
           {
            "fillpattern": {
             "fillmode": "overlay",
             "size": 10,
             "solidity": 0.2
            },
            "type": "scatter"
           }
          ],
          "scatter3d": [
           {
            "line": {
             "colorbar": {
              "outlinewidth": 0,
              "ticks": ""
             }
            },
            "marker": {
             "colorbar": {
              "outlinewidth": 0,
              "ticks": ""
             }
            },
            "type": "scatter3d"
           }
          ],
          "scattercarpet": [
           {
            "marker": {
             "colorbar": {
              "outlinewidth": 0,
              "ticks": ""
             }
            },
            "type": "scattercarpet"
           }
          ],
          "scattergeo": [
           {
            "marker": {
             "colorbar": {
              "outlinewidth": 0,
              "ticks": ""
             }
            },
            "type": "scattergeo"
           }
          ],
          "scattergl": [
           {
            "marker": {
             "colorbar": {
              "outlinewidth": 0,
              "ticks": ""
             }
            },
            "type": "scattergl"
           }
          ],
          "scattermapbox": [
           {
            "marker": {
             "colorbar": {
              "outlinewidth": 0,
              "ticks": ""
             }
            },
            "type": "scattermapbox"
           }
          ],
          "scatterpolar": [
           {
            "marker": {
             "colorbar": {
              "outlinewidth": 0,
              "ticks": ""
             }
            },
            "type": "scatterpolar"
           }
          ],
          "scatterpolargl": [
           {
            "marker": {
             "colorbar": {
              "outlinewidth": 0,
              "ticks": ""
             }
            },
            "type": "scatterpolargl"
           }
          ],
          "scatterternary": [
           {
            "marker": {
             "colorbar": {
              "outlinewidth": 0,
              "ticks": ""
             }
            },
            "type": "scatterternary"
           }
          ],
          "surface": [
           {
            "colorbar": {
             "outlinewidth": 0,
             "ticks": ""
            },
            "colorscale": [
             [
              0,
              "#0d0887"
             ],
             [
              0.1111111111111111,
              "#46039f"
             ],
             [
              0.2222222222222222,
              "#7201a8"
             ],
             [
              0.3333333333333333,
              "#9c179e"
             ],
             [
              0.4444444444444444,
              "#bd3786"
             ],
             [
              0.5555555555555556,
              "#d8576b"
             ],
             [
              0.6666666666666666,
              "#ed7953"
             ],
             [
              0.7777777777777778,
              "#fb9f3a"
             ],
             [
              0.8888888888888888,
              "#fdca26"
             ],
             [
              1,
              "#f0f921"
             ]
            ],
            "type": "surface"
           }
          ],
          "table": [
           {
            "cells": {
             "fill": {
              "color": "#EBF0F8"
             },
             "line": {
              "color": "white"
             }
            },
            "header": {
             "fill": {
              "color": "#C8D4E3"
             },
             "line": {
              "color": "white"
             }
            },
            "type": "table"
           }
          ]
         },
         "layout": {
          "annotationdefaults": {
           "arrowcolor": "#2a3f5f",
           "arrowhead": 0,
           "arrowwidth": 1
          },
          "autotypenumbers": "strict",
          "coloraxis": {
           "colorbar": {
            "outlinewidth": 0,
            "ticks": ""
           }
          },
          "colorscale": {
           "diverging": [
            [
             0,
             "#8e0152"
            ],
            [
             0.1,
             "#c51b7d"
            ],
            [
             0.2,
             "#de77ae"
            ],
            [
             0.3,
             "#f1b6da"
            ],
            [
             0.4,
             "#fde0ef"
            ],
            [
             0.5,
             "#f7f7f7"
            ],
            [
             0.6,
             "#e6f5d0"
            ],
            [
             0.7,
             "#b8e186"
            ],
            [
             0.8,
             "#7fbc41"
            ],
            [
             0.9,
             "#4d9221"
            ],
            [
             1,
             "#276419"
            ]
           ],
           "sequential": [
            [
             0,
             "#0d0887"
            ],
            [
             0.1111111111111111,
             "#46039f"
            ],
            [
             0.2222222222222222,
             "#7201a8"
            ],
            [
             0.3333333333333333,
             "#9c179e"
            ],
            [
             0.4444444444444444,
             "#bd3786"
            ],
            [
             0.5555555555555556,
             "#d8576b"
            ],
            [
             0.6666666666666666,
             "#ed7953"
            ],
            [
             0.7777777777777778,
             "#fb9f3a"
            ],
            [
             0.8888888888888888,
             "#fdca26"
            ],
            [
             1,
             "#f0f921"
            ]
           ],
           "sequentialminus": [
            [
             0,
             "#0d0887"
            ],
            [
             0.1111111111111111,
             "#46039f"
            ],
            [
             0.2222222222222222,
             "#7201a8"
            ],
            [
             0.3333333333333333,
             "#9c179e"
            ],
            [
             0.4444444444444444,
             "#bd3786"
            ],
            [
             0.5555555555555556,
             "#d8576b"
            ],
            [
             0.6666666666666666,
             "#ed7953"
            ],
            [
             0.7777777777777778,
             "#fb9f3a"
            ],
            [
             0.8888888888888888,
             "#fdca26"
            ],
            [
             1,
             "#f0f921"
            ]
           ]
          },
          "colorway": [
           "#636efa",
           "#EF553B",
           "#00cc96",
           "#ab63fa",
           "#FFA15A",
           "#19d3f3",
           "#FF6692",
           "#B6E880",
           "#FF97FF",
           "#FECB52"
          ],
          "font": {
           "color": "#2a3f5f"
          },
          "geo": {
           "bgcolor": "white",
           "lakecolor": "white",
           "landcolor": "#E5ECF6",
           "showlakes": true,
           "showland": true,
           "subunitcolor": "white"
          },
          "hoverlabel": {
           "align": "left"
          },
          "hovermode": "closest",
          "mapbox": {
           "style": "light"
          },
          "paper_bgcolor": "white",
          "plot_bgcolor": "#E5ECF6",
          "polar": {
           "angularaxis": {
            "gridcolor": "white",
            "linecolor": "white",
            "ticks": ""
           },
           "bgcolor": "#E5ECF6",
           "radialaxis": {
            "gridcolor": "white",
            "linecolor": "white",
            "ticks": ""
           }
          },
          "scene": {
           "xaxis": {
            "backgroundcolor": "#E5ECF6",
            "gridcolor": "white",
            "gridwidth": 2,
            "linecolor": "white",
            "showbackground": true,
            "ticks": "",
            "zerolinecolor": "white"
           },
           "yaxis": {
            "backgroundcolor": "#E5ECF6",
            "gridcolor": "white",
            "gridwidth": 2,
            "linecolor": "white",
            "showbackground": true,
            "ticks": "",
            "zerolinecolor": "white"
           },
           "zaxis": {
            "backgroundcolor": "#E5ECF6",
            "gridcolor": "white",
            "gridwidth": 2,
            "linecolor": "white",
            "showbackground": true,
            "ticks": "",
            "zerolinecolor": "white"
           }
          },
          "shapedefaults": {
           "line": {
            "color": "#2a3f5f"
           }
          },
          "ternary": {
           "aaxis": {
            "gridcolor": "white",
            "linecolor": "white",
            "ticks": ""
           },
           "baxis": {
            "gridcolor": "white",
            "linecolor": "white",
            "ticks": ""
           },
           "bgcolor": "#E5ECF6",
           "caxis": {
            "gridcolor": "white",
            "linecolor": "white",
            "ticks": ""
           }
          },
          "title": {
           "x": 0.05
          },
          "xaxis": {
           "automargin": true,
           "gridcolor": "white",
           "linecolor": "white",
           "ticks": "",
           "title": {
            "standoff": 15
           },
           "zerolinecolor": "white",
           "zerolinewidth": 2
          },
          "yaxis": {
           "automargin": true,
           "gridcolor": "white",
           "linecolor": "white",
           "ticks": "",
           "title": {
            "standoff": 15
           },
           "zerolinecolor": "white",
           "zerolinewidth": 2
          }
         }
        },
        "xaxis": {
         "anchor": "y",
         "domain": [
          0,
          1
         ],
         "title": {
          "text": "x"
         }
        },
        "yaxis": {
         "anchor": "x",
         "domain": [
          0,
          1
         ],
         "title": {
          "text": "y"
         }
        }
       }
      }
     },
     "metadata": {},
     "output_type": "display_data"
    }
   ],
   "source": [
    "vecs, labels = reduce_dimensions(w2v_model)\n",
    "\n",
    "MAX_WORDS=200\n",
    "px.scatter(x=vecs[:MAX_WORDS,0], y=vecs[:MAX_WORDS,1], text=labels[:MAX_WORDS])"
   ]
  },
  {
   "cell_type": "markdown",
   "metadata": {},
   "source": [
    "Oservación:  \n",
    "Los vectores de las palabras \"mujer\" y \"casa\" son similares. Eso significa que aparecen en el mismo contexto."
   ]
  },
  {
   "cell_type": "code",
   "execution_count": null,
   "metadata": {},
   "outputs": [
    {
     "data": {
      "application/vnd.plotly.v1+json": {
       "config": {
        "plotlyServerURL": "https://plot.ly"
       },
       "data": [
        {
         "hovertemplate": "x=%{x}<br>y=%{y}<br>z=%{z}<br>text=%{text}<extra></extra>",
         "legendgroup": "",
         "marker": {
          "color": "#636efa",
          "size": 2,
          "symbol": "circle"
         },
         "mode": "markers+text",
         "name": "",
         "scene": "scene",
         "showlegend": false,
         "text": [
          "de",
          "la",
          "que",
          "el",
          "y",
          "en",
          "los",
          "a",
          "un",
          "no",
          "una",
          "del",
          "las",
          "lo",
          "se",
          "con",
          "es",
          "me",
          "su",
          "por",
          "le",
          "al",
          "o",
          "era",
          "para",
          "había",
          "pero",
          "como",
          "más",
          "mi",
          "esa",
          "yo",
          "hombre",
          "ese",
          "sin",
          "ya",
          "dos",
          "sus",
          "si",
          "fue",
          "otro",
          "son",
          "hombres",
          "ha",
          "vez",
          "noche",
          "hay",
          "he",
          "fin",
          "también",
          "todos",
          "él",
          "después",
          "dijo",
          "uno",
          "todo",
          "estaba",
          "años",
          "casi",
          "otra",
          "tiempo",
          "ni",
          "ahora",
          "cuando",
          "entre",
          "libro",
          "historia",
          "este",
          "nombre",
          "porque",
          "hasta",
          "cada",
          "nos",
          "solo",
          "muy",
          "tal",
          "sobre",
          "dios",
          "día",
          "otros",
          "palabras",
          "eran",
          "nadie",
          "ser",
          "vi",
          "casa",
          "antes",
          "muerte",
          "sido",
          "menos",
          "esas",
          "tres",
          "está",
          "tierra",
          "algún",
          "mundo",
          "hecho",
          "puede",
          "sé",
          "ojos",
          "desde",
          "veces",
          "unos",
          "todas",
          "esos",
          "alguna",
          "voz",
          "días",
          "así",
          "sino",
          "primera",
          "tan",
          "entonces",
          "han",
          "luego",
          "aquel",
          "unas",
          "esta",
          "nunca",
          "mujer",
          "libros",
          "hacia",
          "noches",
          "recuerdo",
          "cosas",
          "nada",
          "cara",
          "algo",
          "les",
          "muchos",
          "mano",
          "poco",
          "obra",
          "mis",
          "otras",
          "tarde",
          "siglo",
          "mismo",
          "biblioteca",
          "modo",
          "palabra",
          "donde",
          "qué",
          "siempre",
          "iba",
          "quien",
          "ciudad",
          "alguien",
          "vio",
          "número",
          "cuatro",
          "laberinto",
          "tenía",
          "lugar",
          "sabía",
          "sangre",
          "fuera",
          "segundo",
          "habían",
          "acaso",
          "juan",
          "cosa",
          "bien",
          "hizo",
          "contra",
          "infinito",
          "muerto",
          "vida",
          "dio",
          "universo",
          "hace",
          "primer",
          "tiene",
          "realidad",
          "dahlmann",
          "principio",
          "aunque",
          "cuyo",
          "podía",
          "cruz",
          "sueño",
          "puerta",
          "secreto",
          "memoria",
          "hechos",
          "fueron",
          "quizá",
          "verdad",
          "soy",
          "padre",
          "te",
          "aleph",
          "sola",
          "sea",
          "bajo",
          "murió",
          "último",
          "toda",
          "acto",
          "tlön"
         ],
         "type": "scatter3d",
         "x": [
          15.312659,
          2.5379543,
          -19.614758,
          13.538804,
          20.321388,
          6.744407,
          30.673948,
          -8.181401,
          14.4538555,
          -23.187115,
          -2.5357032,
          15.519248,
          32.099228,
          -29.907084,
          -8.843203,
          -21.520853,
          -11.5606985,
          -36.116737,
          -28.181643,
          -4.730254,
          -37.550053,
          7.001382,
          16.577244,
          -20.263817,
          -2.9243903,
          -19.056944,
          -17.960644,
          -16.640043,
          -19.274527,
          -27.229818,
          -8.845395,
          -37.547035,
          -5.169073,
          13.060133,
          -23.820019,
          -39.30626,
          36.21658,
          34.685013,
          -40.384785,
          -16.008692,
          -4.260721,
          24.84022,
          17.742002,
          -23.570936,
          -13.911659,
          1.8660418,
          2.9685926,
          -27.416044,
          3.7757714,
          6.8141146,
          27.296385,
          -18.420193,
          30.058804,
          -33.210403,
          12.684676,
          -15.603126,
          -23.703041,
          42.831562,
          22.305737,
          -19.93819,
          5.7723126,
          -18.72002,
          -26.967735,
          -20.289778,
          22.087864,
          7.6294026,
          -4.802019,
          6.107659,
          6.2909284,
          -25.515835,
          -2.969528,
          37.15769,
          -8.921693,
          -12.854101,
          -24.196363,
          -15.822293,
          6.8891983,
          -1.7607539,
          10.0659685,
          24.579664,
          37.496834,
          29.853441,
          -22.150524,
          -12.816056,
          16.419785,
          -4.0288153,
          -3.9160235,
          -11.68578,
          -27.084501,
          -17.1927,
          34.79886,
          30.973063,
          -10.752102,
          12.430058,
          11.854667,
          5.121458,
          -20.289972,
          -13.067921,
          -36.642933,
          29.92431,
          13.460667,
          37.07278,
          28.58103,
          29.12629,
          32.482334,
          -20.569792,
          -25.727425,
          34.165733,
          -20.885424,
          -3.8895738,
          0.67580134,
          -18.236866,
          -25.019518,
          32.01321,
          -9.824251,
          -13.823531,
          38.999657,
          -8.081295,
          -22.241985,
          -5.6253176,
          23.384195,
          25.081709,
          37.583282,
          -7.603332,
          33.859005,
          -37.619938,
          -13.03761,
          -19.993221,
          -37.25468,
          40.69948,
          -11.15231,
          -0.2777879,
          3.9869537,
          36.471893,
          33.118652,
          2.5334187,
          17.697561,
          15.583897,
          8.938788,
          22.342041,
          2.06607,
          28.590359,
          -39.965733,
          -14.858274,
          -25.838,
          -34.127144,
          21.551962,
          -34.860287,
          -13.882487,
          25.155931,
          35.918438,
          9.798944,
          -29.419302,
          13.359573,
          -32.7621,
          -16.55061,
          -35.49431,
          20.532555,
          -17.549551,
          -4.9089546,
          -19.565197,
          -9.016275,
          -23.258362,
          -28.156351,
          24.451162,
          4.131017,
          -36.977627,
          -11.905458,
          -17.167469,
          8.983273,
          43.924477,
          19.339449,
          -6.7808976,
          -4.2861876,
          -22.500875,
          -19.421442,
          -1.0286592,
          13.233661,
          -32.7037,
          21.747038,
          27.710976,
          -6.928942,
          -0.4907857,
          -29.154268,
          20.100355,
          28.834362,
          3.9275966,
          -20.601772,
          -13.765564,
          -16.232256,
          -36.117905,
          8.025824,
          -15.74066,
          -1.726101,
          -7.504619,
          3.1170564,
          16.961145,
          -10.609179,
          10.973626,
          6.236745
         ],
         "y": [
          14.3773365,
          21.97069,
          -14.98871,
          -17.893152,
          13.422318,
          16.78134,
          5.390674,
          17.261969,
          -17.509132,
          -14.589665,
          19.531214,
          -16.460491,
          -13.223546,
          -18.604282,
          -0.3463289,
          26.406878,
          -27.587692,
          -3.5164564,
          7.792511,
          -3.213132,
          1.7743224,
          -7.7836256,
          -6.9104333,
          1.5195682,
          -10.518718,
          -25.847101,
          -16.933714,
          -16.075752,
          -30.344461,
          4.7277646,
          19.52036,
          -9.425477,
          -26.884245,
          -21.461187,
          -5.2555404,
          -13.3421135,
          -9.792397,
          7.2428565,
          -7.5250726,
          16.11419,
          -14.211431,
          -15.186274,
          5.082978,
          -23.871431,
          -5.158574,
          34.50835,
          -18.035799,
          -25.95735,
          1.116703,
          3.5223296,
          1.8205899,
          -7.2677197,
          20.427628,
          4.167625,
          3.0583797,
          -24.180239,
          26.209646,
          6.107081,
          -23.410566,
          -2.7929184,
          -30.153332,
          -3.1211016,
          -9.235505,
          22.491156,
          25.746696,
          -24.39872,
          11.314981,
          -14.147872,
          -20.00302,
          -20.293465,
          -9.172823,
          4.3607583,
          20.621254,
          -16.722052,
          4.0257483,
          -2.4969976,
          24.541866,
          -25.715513,
          6.1202817,
          -1.8250549,
          -11.956388,
          -3.7989993,
          -3.030843,
          -17.166227,
          18.863695,
          28.382282,
          22.822603,
          7.519812,
          -22.918419,
          -26.736767,
          -14.104824,
          15.294291,
          -34.181854,
          30.19595,
          -19.062431,
          -31.369743,
          -9.082002,
          -32.302853,
          -11.281923,
          12.577295,
          -0.5258278,
          -5.6786265,
          15.776584,
          -15.07314,
          5.361782,
          0.34878644,
          18.380102,
          16.873566,
          -10.762077,
          -12.2095175,
          16.49631,
          -26.694204,
          20.482418,
          -13.390989,
          15.446789,
          -25.050383,
          -6.858337,
          17.057882,
          -18.814646,
          19.528976,
          -7.6802397,
          7.826001,
          -4.1356936,
          -39.357605,
          -16.91372,
          -12.294738,
          29.688784,
          -25.615095,
          -0.5394697,
          5.5209947,
          34.172134,
          -0.58273536,
          7.0299993,
          12.650813,
          -13.013911,
          31.975052,
          -7.181961,
          -5.9049687,
          22.237787,
          -9.814226,
          14.341343,
          4.340598,
          -8.431666,
          -13.157474,
          16.34953,
          -18.099112,
          19.416391,
          -14.117757,
          26.828747,
          -20.666674,
          14.163164,
          -21.8811,
          4.7956185,
          -22.922777,
          -12.465035,
          20.328842,
          -3.2218406,
          -2.0154955,
          -25.10264,
          -4.9252,
          20.244051,
          -6.5973387,
          -9.922381,
          0.3107169,
          9.435631,
          -26.331081,
          -13.226493,
          6.8396497,
          30.459873,
          -33.244457,
          9.827068,
          -7.816645,
          -28.249044,
          -10.046222,
          9.3993,
          7.3765197,
          -32.325268,
          -22.400497,
          -14.4401045,
          17.135523,
          -4.9404225,
          33.02948,
          -28.110905,
          0.79227686,
          -3.8022702,
          3.8416502,
          -1.8860539,
          -21.963455,
          -33.57382,
          15.513155,
          -6.3685007,
          -0.5305573,
          2.2223809,
          -32.678844,
          4.94333,
          4.0161524,
          2.0875473,
          15.339626,
          -27.042551,
          -21.851896
         ],
         "z": [
          6.1939063,
          24.174778,
          0.83961314,
          -19.871756,
          9.023442,
          -13.817767,
          24.503155,
          -32.722855,
          -10.439825,
          4.329457,
          24.160114,
          -20.60419,
          3.467207,
          7.8076024,
          0.95675063,
          5.31454,
          10.588036,
          -12.457572,
          19.613413,
          -34.848557,
          -13.268193,
          -30.990774,
          0.50611264,
          4.4153547,
          33.70779,
          -11.169354,
          2.1785605,
          -20.205109,
          10.80007,
          17.118618,
          20.497316,
          -6.459829,
          -4.826818,
          -15.479658,
          -24.436277,
          -12.556158,
          16.692837,
          20.490253,
          1.0333709,
          29.120928,
          -30.462748,
          19.053297,
          27.16937,
          -12.829874,
          30.683445,
          -6.9153075,
          20.735802,
          -11.357954,
          -34.657307,
          27.097075,
          29.610394,
          9.465717,
          -3.3394487,
          -5.138777,
          29.235582,
          18.2202,
          -4.6260242,
          -0.16407496,
          -10.768999,
          29.413168,
          -8.546454,
          -37.062214,
          -8.481254,
          -15.810543,
          7.019724,
          6.167266,
          13.3015585,
          -28.112926,
          -20.451096,
          9.089231,
          -28.402254,
          -7.843217,
          -16.598274,
          8.599312,
          1.0358008,
          22.604216,
          -7.289933,
          -19.533585,
          -30.123442,
          25.591469,
          3.8364673,
          9.750112,
          6.2001615,
          14.284921,
          -22.277468,
          -1.0959663,
          -23.850658,
          3.9423852,
          -18.573732,
          13.000676,
          10.593919,
          -7.5008388,
          -6.4536614,
          -3.0068612,
          4.5148478,
          1.2995137,
          17.390135,
          12.0599,
          4.2299232,
          17.418657,
          -29.193876,
          15.335386,
          0.46191356,
          1.2077539,
          22.887102,
          27.153715,
          5.011855,
          2.0656698,
          -7.282487,
          27.108181,
          17.000858,
          3.0704112,
          -21.467358,
          -14.762095,
          -25.882156,
          -4.555213,
          4.177732,
          21.206774,
          -16.626177,
          1.3199561,
          25.44058,
          -13.619325,
          -1.6328135,
          1.3679837,
          0.16299094,
          -0.2777499,
          -5.6906424,
          -2.319005,
          -12.534577,
          4.5316687,
          -0.68566227,
          34.98556,
          23.122568,
          14.936736,
          6.2943606,
          -6.5210476,
          -16.30175,
          -30.782701,
          20.115421,
          34.319748,
          28.71287,
          -16.528543,
          -2.2020633,
          5.127677,
          -16.284891,
          -9.999409,
          10.634336,
          -5.8195972,
          2.7104013,
          15.3287,
          -8.329278,
          -10.150129,
          -12.186631,
          -0.72483164,
          9.741208,
          -0.7009249,
          9.04793,
          -21.882212,
          -13.812477,
          16.534227,
          20.549425,
          31.350344,
          2.8575206,
          -3.978626,
          8.903995,
          16.757076,
          -13.004467,
          17.432558,
          -10.09824,
          -3.639126,
          4.114131,
          -24.233679,
          11.056522,
          21.819214,
          24.580465,
          -28.815388,
          -7.636498,
          -19.314466,
          4.2409096,
          21.059902,
          -10.974718,
          -6.684248,
          -14.220894,
          -24.596413,
          26.109499,
          14.796807,
          27.118853,
          1.3245322,
          2.0913415,
          11.516084,
          0.4516471,
          -34.56106,
          28.756208,
          -1.3095127,
          -34.38626,
          -28.603933,
          -26.245846,
          20.790953,
          3.2183344,
          25.99972
         ]
        }
       ],
       "layout": {
        "legend": {
         "tracegroupgap": 0
        },
        "margin": {
         "t": 60
        },
        "scene": {
         "domain": {
          "x": [
           0,
           1
          ],
          "y": [
           0,
           1
          ]
         },
         "xaxis": {
          "title": {
           "text": "x"
          }
         },
         "yaxis": {
          "title": {
           "text": "y"
          }
         },
         "zaxis": {
          "title": {
           "text": "z"
          }
         }
        },
        "template": {
         "data": {
          "bar": [
           {
            "error_x": {
             "color": "#2a3f5f"
            },
            "error_y": {
             "color": "#2a3f5f"
            },
            "marker": {
             "line": {
              "color": "#E5ECF6",
              "width": 0.5
             },
             "pattern": {
              "fillmode": "overlay",
              "size": 10,
              "solidity": 0.2
             }
            },
            "type": "bar"
           }
          ],
          "barpolar": [
           {
            "marker": {
             "line": {
              "color": "#E5ECF6",
              "width": 0.5
             },
             "pattern": {
              "fillmode": "overlay",
              "size": 10,
              "solidity": 0.2
             }
            },
            "type": "barpolar"
           }
          ],
          "carpet": [
           {
            "aaxis": {
             "endlinecolor": "#2a3f5f",
             "gridcolor": "white",
             "linecolor": "white",
             "minorgridcolor": "white",
             "startlinecolor": "#2a3f5f"
            },
            "baxis": {
             "endlinecolor": "#2a3f5f",
             "gridcolor": "white",
             "linecolor": "white",
             "minorgridcolor": "white",
             "startlinecolor": "#2a3f5f"
            },
            "type": "carpet"
           }
          ],
          "choropleth": [
           {
            "colorbar": {
             "outlinewidth": 0,
             "ticks": ""
            },
            "type": "choropleth"
           }
          ],
          "contour": [
           {
            "colorbar": {
             "outlinewidth": 0,
             "ticks": ""
            },
            "colorscale": [
             [
              0,
              "#0d0887"
             ],
             [
              0.1111111111111111,
              "#46039f"
             ],
             [
              0.2222222222222222,
              "#7201a8"
             ],
             [
              0.3333333333333333,
              "#9c179e"
             ],
             [
              0.4444444444444444,
              "#bd3786"
             ],
             [
              0.5555555555555556,
              "#d8576b"
             ],
             [
              0.6666666666666666,
              "#ed7953"
             ],
             [
              0.7777777777777778,
              "#fb9f3a"
             ],
             [
              0.8888888888888888,
              "#fdca26"
             ],
             [
              1,
              "#f0f921"
             ]
            ],
            "type": "contour"
           }
          ],
          "contourcarpet": [
           {
            "colorbar": {
             "outlinewidth": 0,
             "ticks": ""
            },
            "type": "contourcarpet"
           }
          ],
          "heatmap": [
           {
            "colorbar": {
             "outlinewidth": 0,
             "ticks": ""
            },
            "colorscale": [
             [
              0,
              "#0d0887"
             ],
             [
              0.1111111111111111,
              "#46039f"
             ],
             [
              0.2222222222222222,
              "#7201a8"
             ],
             [
              0.3333333333333333,
              "#9c179e"
             ],
             [
              0.4444444444444444,
              "#bd3786"
             ],
             [
              0.5555555555555556,
              "#d8576b"
             ],
             [
              0.6666666666666666,
              "#ed7953"
             ],
             [
              0.7777777777777778,
              "#fb9f3a"
             ],
             [
              0.8888888888888888,
              "#fdca26"
             ],
             [
              1,
              "#f0f921"
             ]
            ],
            "type": "heatmap"
           }
          ],
          "heatmapgl": [
           {
            "colorbar": {
             "outlinewidth": 0,
             "ticks": ""
            },
            "colorscale": [
             [
              0,
              "#0d0887"
             ],
             [
              0.1111111111111111,
              "#46039f"
             ],
             [
              0.2222222222222222,
              "#7201a8"
             ],
             [
              0.3333333333333333,
              "#9c179e"
             ],
             [
              0.4444444444444444,
              "#bd3786"
             ],
             [
              0.5555555555555556,
              "#d8576b"
             ],
             [
              0.6666666666666666,
              "#ed7953"
             ],
             [
              0.7777777777777778,
              "#fb9f3a"
             ],
             [
              0.8888888888888888,
              "#fdca26"
             ],
             [
              1,
              "#f0f921"
             ]
            ],
            "type": "heatmapgl"
           }
          ],
          "histogram": [
           {
            "marker": {
             "pattern": {
              "fillmode": "overlay",
              "size": 10,
              "solidity": 0.2
             }
            },
            "type": "histogram"
           }
          ],
          "histogram2d": [
           {
            "colorbar": {
             "outlinewidth": 0,
             "ticks": ""
            },
            "colorscale": [
             [
              0,
              "#0d0887"
             ],
             [
              0.1111111111111111,
              "#46039f"
             ],
             [
              0.2222222222222222,
              "#7201a8"
             ],
             [
              0.3333333333333333,
              "#9c179e"
             ],
             [
              0.4444444444444444,
              "#bd3786"
             ],
             [
              0.5555555555555556,
              "#d8576b"
             ],
             [
              0.6666666666666666,
              "#ed7953"
             ],
             [
              0.7777777777777778,
              "#fb9f3a"
             ],
             [
              0.8888888888888888,
              "#fdca26"
             ],
             [
              1,
              "#f0f921"
             ]
            ],
            "type": "histogram2d"
           }
          ],
          "histogram2dcontour": [
           {
            "colorbar": {
             "outlinewidth": 0,
             "ticks": ""
            },
            "colorscale": [
             [
              0,
              "#0d0887"
             ],
             [
              0.1111111111111111,
              "#46039f"
             ],
             [
              0.2222222222222222,
              "#7201a8"
             ],
             [
              0.3333333333333333,
              "#9c179e"
             ],
             [
              0.4444444444444444,
              "#bd3786"
             ],
             [
              0.5555555555555556,
              "#d8576b"
             ],
             [
              0.6666666666666666,
              "#ed7953"
             ],
             [
              0.7777777777777778,
              "#fb9f3a"
             ],
             [
              0.8888888888888888,
              "#fdca26"
             ],
             [
              1,
              "#f0f921"
             ]
            ],
            "type": "histogram2dcontour"
           }
          ],
          "mesh3d": [
           {
            "colorbar": {
             "outlinewidth": 0,
             "ticks": ""
            },
            "type": "mesh3d"
           }
          ],
          "parcoords": [
           {
            "line": {
             "colorbar": {
              "outlinewidth": 0,
              "ticks": ""
             }
            },
            "type": "parcoords"
           }
          ],
          "pie": [
           {
            "automargin": true,
            "type": "pie"
           }
          ],
          "scatter": [
           {
            "fillpattern": {
             "fillmode": "overlay",
             "size": 10,
             "solidity": 0.2
            },
            "type": "scatter"
           }
          ],
          "scatter3d": [
           {
            "line": {
             "colorbar": {
              "outlinewidth": 0,
              "ticks": ""
             }
            },
            "marker": {
             "colorbar": {
              "outlinewidth": 0,
              "ticks": ""
             }
            },
            "type": "scatter3d"
           }
          ],
          "scattercarpet": [
           {
            "marker": {
             "colorbar": {
              "outlinewidth": 0,
              "ticks": ""
             }
            },
            "type": "scattercarpet"
           }
          ],
          "scattergeo": [
           {
            "marker": {
             "colorbar": {
              "outlinewidth": 0,
              "ticks": ""
             }
            },
            "type": "scattergeo"
           }
          ],
          "scattergl": [
           {
            "marker": {
             "colorbar": {
              "outlinewidth": 0,
              "ticks": ""
             }
            },
            "type": "scattergl"
           }
          ],
          "scattermapbox": [
           {
            "marker": {
             "colorbar": {
              "outlinewidth": 0,
              "ticks": ""
             }
            },
            "type": "scattermapbox"
           }
          ],
          "scatterpolar": [
           {
            "marker": {
             "colorbar": {
              "outlinewidth": 0,
              "ticks": ""
             }
            },
            "type": "scatterpolar"
           }
          ],
          "scatterpolargl": [
           {
            "marker": {
             "colorbar": {
              "outlinewidth": 0,
              "ticks": ""
             }
            },
            "type": "scatterpolargl"
           }
          ],
          "scatterternary": [
           {
            "marker": {
             "colorbar": {
              "outlinewidth": 0,
              "ticks": ""
             }
            },
            "type": "scatterternary"
           }
          ],
          "surface": [
           {
            "colorbar": {
             "outlinewidth": 0,
             "ticks": ""
            },
            "colorscale": [
             [
              0,
              "#0d0887"
             ],
             [
              0.1111111111111111,
              "#46039f"
             ],
             [
              0.2222222222222222,
              "#7201a8"
             ],
             [
              0.3333333333333333,
              "#9c179e"
             ],
             [
              0.4444444444444444,
              "#bd3786"
             ],
             [
              0.5555555555555556,
              "#d8576b"
             ],
             [
              0.6666666666666666,
              "#ed7953"
             ],
             [
              0.7777777777777778,
              "#fb9f3a"
             ],
             [
              0.8888888888888888,
              "#fdca26"
             ],
             [
              1,
              "#f0f921"
             ]
            ],
            "type": "surface"
           }
          ],
          "table": [
           {
            "cells": {
             "fill": {
              "color": "#EBF0F8"
             },
             "line": {
              "color": "white"
             }
            },
            "header": {
             "fill": {
              "color": "#C8D4E3"
             },
             "line": {
              "color": "white"
             }
            },
            "type": "table"
           }
          ]
         },
         "layout": {
          "annotationdefaults": {
           "arrowcolor": "#2a3f5f",
           "arrowhead": 0,
           "arrowwidth": 1
          },
          "autotypenumbers": "strict",
          "coloraxis": {
           "colorbar": {
            "outlinewidth": 0,
            "ticks": ""
           }
          },
          "colorscale": {
           "diverging": [
            [
             0,
             "#8e0152"
            ],
            [
             0.1,
             "#c51b7d"
            ],
            [
             0.2,
             "#de77ae"
            ],
            [
             0.3,
             "#f1b6da"
            ],
            [
             0.4,
             "#fde0ef"
            ],
            [
             0.5,
             "#f7f7f7"
            ],
            [
             0.6,
             "#e6f5d0"
            ],
            [
             0.7,
             "#b8e186"
            ],
            [
             0.8,
             "#7fbc41"
            ],
            [
             0.9,
             "#4d9221"
            ],
            [
             1,
             "#276419"
            ]
           ],
           "sequential": [
            [
             0,
             "#0d0887"
            ],
            [
             0.1111111111111111,
             "#46039f"
            ],
            [
             0.2222222222222222,
             "#7201a8"
            ],
            [
             0.3333333333333333,
             "#9c179e"
            ],
            [
             0.4444444444444444,
             "#bd3786"
            ],
            [
             0.5555555555555556,
             "#d8576b"
            ],
            [
             0.6666666666666666,
             "#ed7953"
            ],
            [
             0.7777777777777778,
             "#fb9f3a"
            ],
            [
             0.8888888888888888,
             "#fdca26"
            ],
            [
             1,
             "#f0f921"
            ]
           ],
           "sequentialminus": [
            [
             0,
             "#0d0887"
            ],
            [
             0.1111111111111111,
             "#46039f"
            ],
            [
             0.2222222222222222,
             "#7201a8"
            ],
            [
             0.3333333333333333,
             "#9c179e"
            ],
            [
             0.4444444444444444,
             "#bd3786"
            ],
            [
             0.5555555555555556,
             "#d8576b"
            ],
            [
             0.6666666666666666,
             "#ed7953"
            ],
            [
             0.7777777777777778,
             "#fb9f3a"
            ],
            [
             0.8888888888888888,
             "#fdca26"
            ],
            [
             1,
             "#f0f921"
            ]
           ]
          },
          "colorway": [
           "#636efa",
           "#EF553B",
           "#00cc96",
           "#ab63fa",
           "#FFA15A",
           "#19d3f3",
           "#FF6692",
           "#B6E880",
           "#FF97FF",
           "#FECB52"
          ],
          "font": {
           "color": "#2a3f5f"
          },
          "geo": {
           "bgcolor": "white",
           "lakecolor": "white",
           "landcolor": "#E5ECF6",
           "showlakes": true,
           "showland": true,
           "subunitcolor": "white"
          },
          "hoverlabel": {
           "align": "left"
          },
          "hovermode": "closest",
          "mapbox": {
           "style": "light"
          },
          "paper_bgcolor": "white",
          "plot_bgcolor": "#E5ECF6",
          "polar": {
           "angularaxis": {
            "gridcolor": "white",
            "linecolor": "white",
            "ticks": ""
           },
           "bgcolor": "#E5ECF6",
           "radialaxis": {
            "gridcolor": "white",
            "linecolor": "white",
            "ticks": ""
           }
          },
          "scene": {
           "xaxis": {
            "backgroundcolor": "#E5ECF6",
            "gridcolor": "white",
            "gridwidth": 2,
            "linecolor": "white",
            "showbackground": true,
            "ticks": "",
            "zerolinecolor": "white"
           },
           "yaxis": {
            "backgroundcolor": "#E5ECF6",
            "gridcolor": "white",
            "gridwidth": 2,
            "linecolor": "white",
            "showbackground": true,
            "ticks": "",
            "zerolinecolor": "white"
           },
           "zaxis": {
            "backgroundcolor": "#E5ECF6",
            "gridcolor": "white",
            "gridwidth": 2,
            "linecolor": "white",
            "showbackground": true,
            "ticks": "",
            "zerolinecolor": "white"
           }
          },
          "shapedefaults": {
           "line": {
            "color": "#2a3f5f"
           }
          },
          "ternary": {
           "aaxis": {
            "gridcolor": "white",
            "linecolor": "white",
            "ticks": ""
           },
           "baxis": {
            "gridcolor": "white",
            "linecolor": "white",
            "ticks": ""
           },
           "bgcolor": "#E5ECF6",
           "caxis": {
            "gridcolor": "white",
            "linecolor": "white",
            "ticks": ""
           }
          },
          "title": {
           "x": 0.05
          },
          "xaxis": {
           "automargin": true,
           "gridcolor": "white",
           "linecolor": "white",
           "ticks": "",
           "title": {
            "standoff": 15
           },
           "zerolinecolor": "white",
           "zerolinewidth": 2
          },
          "yaxis": {
           "automargin": true,
           "gridcolor": "white",
           "linecolor": "white",
           "ticks": "",
           "title": {
            "standoff": 15
           },
           "zerolinecolor": "white",
           "zerolinewidth": 2
          }
         }
        }
       }
      }
     },
     "metadata": {},
     "output_type": "display_data"
    }
   ],
   "source": [
    "# Graficar los embedddings en 3D\n",
    "\n",
    "vecs, labels = reduce_dimensions(w2v_model,3)\n",
    "\n",
    "fig = px.scatter_3d(x=vecs[:MAX_WORDS,0], y=vecs[:MAX_WORDS,1], z=vecs[:MAX_WORDS,2],text=labels[:MAX_WORDS])\n",
    "fig.update_traces(marker_size = 2)\n",
    "#fig.show(renderer=\"colab\") # esto para plotly en colab"
   ]
  },
  {
   "cell_type": "code",
   "execution_count": null,
   "metadata": {},
   "outputs": [],
   "source": [
    "# También se pueden guardar los vectores y labels como tsv para graficar en\n",
    "# http://projector.tensorflow.org/\n",
    "\n",
    "\n",
    "vectors = np.asarray(w2v_model.wv.vectors)\n",
    "labels = list(w2v_model.wv.index_to_key)\n",
    "\n",
    "np.savetxt(\"vectors.tsv\", vectors, delimiter=\"\\t\")\n",
    "\n",
    "with open(\"labels.tsv\", \"w\") as fp:\n",
    "    for item in labels:\n",
    "        fp.write(\"%s\\n\" % item)"
   ]
  },
  {
   "cell_type": "markdown",
   "metadata": {
    "id": "yMM_SHSaZ9N-"
   },
   "source": [
    "### Alumno"
   ]
  },
  {
   "cell_type": "markdown",
   "metadata": {
    "id": "WivQZ3ZCZ9N_"
   },
   "source": [
    "- Crear sus propios vectores con Gensim basado en lo visto en clase con otro dataset.\n",
    "- Probar términos de interés y explicar similitudes en el espacio de embeddings (sacar conclusiones entre palabras similitudes y diferencias).\n",
    "- Graficarlos.\n",
    "- Obtener conclusiones."
   ]
  }
 ],
 "metadata": {
  "colab": {
   "collapsed_sections": [],
   "provenance": []
  },
  "kernelspec": {
   "display_name": "Python 3 (ipykernel)",
   "language": "python",
   "name": "python3"
  },
  "language_info": {
   "codemirror_mode": {
    "name": "ipython",
    "version": 3
   },
   "file_extension": ".py",
   "mimetype": "text/x-python",
   "name": "python",
   "nbconvert_exporter": "python",
   "pygments_lexer": "ipython3",
   "version": "3.10.9"
  }
 },
 "nbformat": 4,
 "nbformat_minor": 4
}
